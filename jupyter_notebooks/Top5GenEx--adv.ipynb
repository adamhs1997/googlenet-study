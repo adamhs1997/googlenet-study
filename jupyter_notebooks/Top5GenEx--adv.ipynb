{
 "cells": [
  {
   "cell_type": "code",
   "execution_count": 1,
   "metadata": {},
   "outputs": [
    {
     "name": "stdout",
     "output_type": "stream",
     "text": [
      "WARNING:tensorflow:From /home/w266ajh/.local/lib/python3.6/site-packages/tensorflow/python/keras/initializers.py:104: calling VarianceScaling.__init__ (from tensorflow.python.ops.init_ops) with distribution=normal is deprecated and will be removed in a future version.\n",
      "Instructions for updating:\n",
      "`normal` is a deprecated alias for `truncated_normal`\n",
      "Load conv1_7x7_s2 weights!\n",
      "Load conv1_7x7_s2 biases!\n",
      "Load conv2_3x3_reduce weights!\n",
      "Load conv2_3x3_reduce biases!\n",
      "Load conv2_3x3 weights!\n",
      "Load conv2_3x3 biases!\n",
      "Load inception_3a_1x1 weights!\n",
      "Load inception_3a_1x1 biases!\n",
      "Load inception_3a_3x3_reduce weights!\n",
      "Load inception_3a_3x3_reduce biases!\n",
      "Load inception_3a_3x3 weights!\n",
      "Load inception_3a_3x3 biases!\n",
      "Load inception_3a_5x5_reduce weights!\n",
      "Load inception_3a_5x5_reduce biases!\n",
      "Load inception_3a_5x5 weights!\n",
      "Load inception_3a_5x5 biases!\n",
      "Load inception_3a_pool_proj weights!\n",
      "Load inception_3a_pool_proj biases!\n",
      "Load inception_3b_1x1 weights!\n",
      "Load inception_3b_1x1 biases!\n",
      "Load inception_3b_3x3_reduce weights!\n",
      "Load inception_3b_3x3_reduce biases!\n",
      "Load inception_3b_3x3 weights!\n",
      "Load inception_3b_3x3 biases!\n",
      "Load inception_3b_5x5_reduce weights!\n",
      "Load inception_3b_5x5_reduce biases!\n",
      "Load inception_3b_5x5 weights!\n",
      "Load inception_3b_5x5 biases!\n",
      "Load inception_3b_pool_proj weights!\n",
      "Load inception_3b_pool_proj biases!\n",
      "Load inception_4a_1x1 weights!\n",
      "Load inception_4a_1x1 biases!\n",
      "Load inception_4a_3x3_reduce weights!\n",
      "Load inception_4a_3x3_reduce biases!\n",
      "Load inception_4a_3x3 weights!\n",
      "Load inception_4a_3x3 biases!\n",
      "Load inception_4a_5x5_reduce weights!\n",
      "Load inception_4a_5x5_reduce biases!\n",
      "Load inception_4a_5x5 weights!\n",
      "Load inception_4a_5x5 biases!\n",
      "Load inception_4a_pool_proj weights!\n",
      "Load inception_4a_pool_proj biases!\n",
      "Load inception_4b_1x1 weights!\n",
      "Load inception_4b_1x1 biases!\n",
      "Load inception_4b_3x3_reduce weights!\n",
      "Load inception_4b_3x3_reduce biases!\n",
      "Load inception_4b_3x3 weights!\n",
      "Load inception_4b_3x3 biases!\n",
      "Load inception_4b_5x5_reduce weights!\n",
      "Load inception_4b_5x5_reduce biases!\n",
      "Load inception_4b_5x5 weights!\n",
      "Load inception_4b_5x5 biases!\n",
      "Load inception_4b_pool_proj weights!\n",
      "Load inception_4b_pool_proj biases!\n",
      "Load inception_4c_1x1 weights!\n",
      "Load inception_4c_1x1 biases!\n",
      "Load inception_4c_3x3_reduce weights!\n",
      "Load inception_4c_3x3_reduce biases!\n",
      "Load inception_4c_3x3 weights!\n",
      "Load inception_4c_3x3 biases!\n",
      "Load inception_4c_5x5_reduce weights!\n",
      "Load inception_4c_5x5_reduce biases!\n",
      "Load inception_4c_5x5 weights!\n",
      "Load inception_4c_5x5 biases!\n",
      "Load inception_4c_pool_proj weights!\n",
      "Load inception_4c_pool_proj biases!\n",
      "Load inception_4d_1x1 weights!\n",
      "Load inception_4d_1x1 biases!\n",
      "Load inception_4d_3x3_reduce weights!\n",
      "Load inception_4d_3x3_reduce biases!\n",
      "Load inception_4d_3x3 weights!\n",
      "Load inception_4d_3x3 biases!\n",
      "Load inception_4d_5x5_reduce weights!\n",
      "Load inception_4d_5x5_reduce biases!\n",
      "Load inception_4d_5x5 weights!\n",
      "Load inception_4d_5x5 biases!\n",
      "Load inception_4d_pool_proj weights!\n",
      "Load inception_4d_pool_proj biases!\n",
      "Load inception_4e_1x1 weights!\n",
      "Load inception_4e_1x1 biases!\n",
      "Load inception_4e_3x3_reduce weights!\n",
      "Load inception_4e_3x3_reduce biases!\n",
      "Load inception_4e_3x3 weights!\n",
      "Load inception_4e_3x3 biases!\n",
      "Load inception_4e_5x5_reduce weights!\n",
      "Load inception_4e_5x5_reduce biases!\n",
      "Load inception_4e_5x5 weights!\n",
      "Load inception_4e_5x5 biases!\n",
      "Load inception_4e_pool_proj weights!\n",
      "Load inception_4e_pool_proj biases!\n",
      "Load inception_5a_1x1 weights!\n",
      "Load inception_5a_1x1 biases!\n",
      "Load inception_5a_3x3_reduce weights!\n",
      "Load inception_5a_3x3_reduce biases!\n",
      "Load inception_5a_3x3 weights!\n",
      "Load inception_5a_3x3 biases!\n",
      "Load inception_5a_5x5_reduce weights!\n",
      "Load inception_5a_5x5_reduce biases!\n",
      "Load inception_5a_5x5 weights!\n",
      "Load inception_5a_5x5 biases!\n",
      "Load inception_5a_pool_proj weights!\n",
      "Load inception_5a_pool_proj biases!\n",
      "Load inception_5b_1x1 weights!\n",
      "Load inception_5b_1x1 biases!\n",
      "Load inception_5b_3x3_reduce weights!\n",
      "Load inception_5b_3x3_reduce biases!\n",
      "Load inception_5b_3x3 weights!\n",
      "Load inception_5b_3x3 biases!\n",
      "Load inception_5b_5x5_reduce weights!\n",
      "Load inception_5b_5x5_reduce biases!\n",
      "Load inception_5b_5x5 weights!\n",
      "Load inception_5b_5x5 biases!\n",
      "Load inception_5b_pool_proj weights!\n",
      "Load inception_5b_pool_proj biases!\n",
      "Load loss3_classifier weights!\n",
      "Load loss3_classifier biases!\n",
      "Tensor(\"fc_layers/Squeeze:0\", shape=(?, 1000), dtype=float32)\n",
      "Tensor(\"fc_layers/Squeeze:0\", shape=(?, 1000), dtype=float32)\n"
     ]
    }
   ],
   "source": [
    "# Top 5 gen standard imports\n",
    "import os\n",
    "import sys\n",
    "sys.path.append('../')\n",
    "from top5gen.examples.inception_pretrained import get_top_five, get_logits, get_labels"
   ]
  },
  {
   "cell_type": "code",
   "execution_count": 2,
   "metadata": {},
   "outputs": [],
   "source": [
    "# Adv standard imports\n",
    "import tensorflow as tf\n",
    "import tensorflow.contrib.slim as slim\n",
    "import tensorflow.contrib.slim.nets as nets"
   ]
  },
  {
   "cell_type": "code",
   "execution_count": 3,
   "metadata": {},
   "outputs": [
    {
     "name": "stdout",
     "output_type": "stream",
     "text": [
      "Tensor(\"InceptionV1/Logits/SpatialSqueeze:0\", shape=(1, 1001), dtype=float32)\n"
     ]
    }
   ],
   "source": [
    "# Setup adv\n",
    "tf.logging.set_verbosity(tf.logging.ERROR)\n",
    "sess = tf.InteractiveSession()\n",
    "image = tf.Variable(tf.zeros((224, 224, 3)))\n",
    "\n",
    "def inception(image, reuse):\n",
    "    preprocessed = tf.multiply(tf.subtract(tf.expand_dims(image, 0), 0.5), 2.0)\n",
    "    arg_scope = nets.inception.inception_v1_arg_scope(weight_decay=0.0)\n",
    "    with slim.arg_scope(arg_scope):\n",
    "        logits, _ = nets.inception.inception_v1(\n",
    "            preprocessed, 1001, is_training=False, reuse=reuse)\n",
    "        print(logits)\n",
    "        logits = logits[:,1:] # ignore background class\n",
    "        probs = tf.nn.softmax(logits) # probabilities\n",
    "    return logits, probs\n",
    "\n",
    "inception(image, reuse=False)\n",
    "logits = get_logits()\n",
    "probs = tf.nn.softmax(get_logits())"
   ]
  },
  {
   "cell_type": "code",
   "execution_count": 4,
   "metadata": {},
   "outputs": [],
   "source": [
    "# Restore vars\n",
    "import tarfile\n",
    "import tempfile\n",
    "from urllib.request import urlretrieve\n",
    "data_dir = tempfile.mkdtemp()\n",
    "inception_tarball, _ = urlretrieve(\n",
    "    'http://download.tensorflow.org/models/inception_v1_2016_08_28.tar.gz')\n",
    "tarfile.open(inception_tarball, 'r:gz').extractall(data_dir)"
   ]
  },
  {
   "cell_type": "code",
   "execution_count": 5,
   "metadata": {},
   "outputs": [
    {
     "name": "stdout",
     "output_type": "stream",
     "text": [
      "[<tf.Variable 'InceptionV1/Conv2d_1a_7x7/weights:0' shape=(7, 7, 3, 64) dtype=float32_ref>, <tf.Variable 'InceptionV1/Conv2d_1a_7x7/BatchNorm/beta:0' shape=(64,) dtype=float32_ref>, <tf.Variable 'InceptionV1/Conv2d_1a_7x7/BatchNorm/moving_mean:0' shape=(64,) dtype=float32_ref>, <tf.Variable 'InceptionV1/Conv2d_1a_7x7/BatchNorm/moving_variance:0' shape=(64,) dtype=float32_ref>, <tf.Variable 'InceptionV1/Conv2d_2b_1x1/weights:0' shape=(1, 1, 64, 64) dtype=float32_ref>, <tf.Variable 'InceptionV1/Conv2d_2b_1x1/BatchNorm/beta:0' shape=(64,) dtype=float32_ref>, <tf.Variable 'InceptionV1/Conv2d_2b_1x1/BatchNorm/moving_mean:0' shape=(64,) dtype=float32_ref>, <tf.Variable 'InceptionV1/Conv2d_2b_1x1/BatchNorm/moving_variance:0' shape=(64,) dtype=float32_ref>, <tf.Variable 'InceptionV1/Conv2d_2c_3x3/weights:0' shape=(3, 3, 64, 192) dtype=float32_ref>, <tf.Variable 'InceptionV1/Conv2d_2c_3x3/BatchNorm/beta:0' shape=(192,) dtype=float32_ref>, <tf.Variable 'InceptionV1/Conv2d_2c_3x3/BatchNorm/moving_mean:0' shape=(192,) dtype=float32_ref>, <tf.Variable 'InceptionV1/Conv2d_2c_3x3/BatchNorm/moving_variance:0' shape=(192,) dtype=float32_ref>, <tf.Variable 'InceptionV1/Mixed_3b/Branch_0/Conv2d_0a_1x1/weights:0' shape=(1, 1, 192, 64) dtype=float32_ref>, <tf.Variable 'InceptionV1/Mixed_3b/Branch_0/Conv2d_0a_1x1/BatchNorm/beta:0' shape=(64,) dtype=float32_ref>, <tf.Variable 'InceptionV1/Mixed_3b/Branch_0/Conv2d_0a_1x1/BatchNorm/moving_mean:0' shape=(64,) dtype=float32_ref>, <tf.Variable 'InceptionV1/Mixed_3b/Branch_0/Conv2d_0a_1x1/BatchNorm/moving_variance:0' shape=(64,) dtype=float32_ref>, <tf.Variable 'InceptionV1/Mixed_3b/Branch_1/Conv2d_0a_1x1/weights:0' shape=(1, 1, 192, 96) dtype=float32_ref>, <tf.Variable 'InceptionV1/Mixed_3b/Branch_1/Conv2d_0a_1x1/BatchNorm/beta:0' shape=(96,) dtype=float32_ref>, <tf.Variable 'InceptionV1/Mixed_3b/Branch_1/Conv2d_0a_1x1/BatchNorm/moving_mean:0' shape=(96,) dtype=float32_ref>, <tf.Variable 'InceptionV1/Mixed_3b/Branch_1/Conv2d_0a_1x1/BatchNorm/moving_variance:0' shape=(96,) dtype=float32_ref>, <tf.Variable 'InceptionV1/Mixed_3b/Branch_1/Conv2d_0b_3x3/weights:0' shape=(3, 3, 96, 128) dtype=float32_ref>, <tf.Variable 'InceptionV1/Mixed_3b/Branch_1/Conv2d_0b_3x3/BatchNorm/beta:0' shape=(128,) dtype=float32_ref>, <tf.Variable 'InceptionV1/Mixed_3b/Branch_1/Conv2d_0b_3x3/BatchNorm/moving_mean:0' shape=(128,) dtype=float32_ref>, <tf.Variable 'InceptionV1/Mixed_3b/Branch_1/Conv2d_0b_3x3/BatchNorm/moving_variance:0' shape=(128,) dtype=float32_ref>, <tf.Variable 'InceptionV1/Mixed_3b/Branch_2/Conv2d_0a_1x1/weights:0' shape=(1, 1, 192, 16) dtype=float32_ref>, <tf.Variable 'InceptionV1/Mixed_3b/Branch_2/Conv2d_0a_1x1/BatchNorm/beta:0' shape=(16,) dtype=float32_ref>, <tf.Variable 'InceptionV1/Mixed_3b/Branch_2/Conv2d_0a_1x1/BatchNorm/moving_mean:0' shape=(16,) dtype=float32_ref>, <tf.Variable 'InceptionV1/Mixed_3b/Branch_2/Conv2d_0a_1x1/BatchNorm/moving_variance:0' shape=(16,) dtype=float32_ref>, <tf.Variable 'InceptionV1/Mixed_3b/Branch_2/Conv2d_0b_3x3/weights:0' shape=(3, 3, 16, 32) dtype=float32_ref>, <tf.Variable 'InceptionV1/Mixed_3b/Branch_2/Conv2d_0b_3x3/BatchNorm/beta:0' shape=(32,) dtype=float32_ref>, <tf.Variable 'InceptionV1/Mixed_3b/Branch_2/Conv2d_0b_3x3/BatchNorm/moving_mean:0' shape=(32,) dtype=float32_ref>, <tf.Variable 'InceptionV1/Mixed_3b/Branch_2/Conv2d_0b_3x3/BatchNorm/moving_variance:0' shape=(32,) dtype=float32_ref>, <tf.Variable 'InceptionV1/Mixed_3b/Branch_3/Conv2d_0b_1x1/weights:0' shape=(1, 1, 192, 32) dtype=float32_ref>, <tf.Variable 'InceptionV1/Mixed_3b/Branch_3/Conv2d_0b_1x1/BatchNorm/beta:0' shape=(32,) dtype=float32_ref>, <tf.Variable 'InceptionV1/Mixed_3b/Branch_3/Conv2d_0b_1x1/BatchNorm/moving_mean:0' shape=(32,) dtype=float32_ref>, <tf.Variable 'InceptionV1/Mixed_3b/Branch_3/Conv2d_0b_1x1/BatchNorm/moving_variance:0' shape=(32,) dtype=float32_ref>, <tf.Variable 'InceptionV1/Mixed_3c/Branch_0/Conv2d_0a_1x1/weights:0' shape=(1, 1, 256, 128) dtype=float32_ref>, <tf.Variable 'InceptionV1/Mixed_3c/Branch_0/Conv2d_0a_1x1/BatchNorm/beta:0' shape=(128,) dtype=float32_ref>, <tf.Variable 'InceptionV1/Mixed_3c/Branch_0/Conv2d_0a_1x1/BatchNorm/moving_mean:0' shape=(128,) dtype=float32_ref>, <tf.Variable 'InceptionV1/Mixed_3c/Branch_0/Conv2d_0a_1x1/BatchNorm/moving_variance:0' shape=(128,) dtype=float32_ref>, <tf.Variable 'InceptionV1/Mixed_3c/Branch_1/Conv2d_0a_1x1/weights:0' shape=(1, 1, 256, 128) dtype=float32_ref>, <tf.Variable 'InceptionV1/Mixed_3c/Branch_1/Conv2d_0a_1x1/BatchNorm/beta:0' shape=(128,) dtype=float32_ref>, <tf.Variable 'InceptionV1/Mixed_3c/Branch_1/Conv2d_0a_1x1/BatchNorm/moving_mean:0' shape=(128,) dtype=float32_ref>, <tf.Variable 'InceptionV1/Mixed_3c/Branch_1/Conv2d_0a_1x1/BatchNorm/moving_variance:0' shape=(128,) dtype=float32_ref>, <tf.Variable 'InceptionV1/Mixed_3c/Branch_1/Conv2d_0b_3x3/weights:0' shape=(3, 3, 128, 192) dtype=float32_ref>, <tf.Variable 'InceptionV1/Mixed_3c/Branch_1/Conv2d_0b_3x3/BatchNorm/beta:0' shape=(192,) dtype=float32_ref>, <tf.Variable 'InceptionV1/Mixed_3c/Branch_1/Conv2d_0b_3x3/BatchNorm/moving_mean:0' shape=(192,) dtype=float32_ref>, <tf.Variable 'InceptionV1/Mixed_3c/Branch_1/Conv2d_0b_3x3/BatchNorm/moving_variance:0' shape=(192,) dtype=float32_ref>, <tf.Variable 'InceptionV1/Mixed_3c/Branch_2/Conv2d_0a_1x1/weights:0' shape=(1, 1, 256, 32) dtype=float32_ref>, <tf.Variable 'InceptionV1/Mixed_3c/Branch_2/Conv2d_0a_1x1/BatchNorm/beta:0' shape=(32,) dtype=float32_ref>, <tf.Variable 'InceptionV1/Mixed_3c/Branch_2/Conv2d_0a_1x1/BatchNorm/moving_mean:0' shape=(32,) dtype=float32_ref>, <tf.Variable 'InceptionV1/Mixed_3c/Branch_2/Conv2d_0a_1x1/BatchNorm/moving_variance:0' shape=(32,) dtype=float32_ref>, <tf.Variable 'InceptionV1/Mixed_3c/Branch_2/Conv2d_0b_3x3/weights:0' shape=(3, 3, 32, 96) dtype=float32_ref>, <tf.Variable 'InceptionV1/Mixed_3c/Branch_2/Conv2d_0b_3x3/BatchNorm/beta:0' shape=(96,) dtype=float32_ref>, <tf.Variable 'InceptionV1/Mixed_3c/Branch_2/Conv2d_0b_3x3/BatchNorm/moving_mean:0' shape=(96,) dtype=float32_ref>, <tf.Variable 'InceptionV1/Mixed_3c/Branch_2/Conv2d_0b_3x3/BatchNorm/moving_variance:0' shape=(96,) dtype=float32_ref>, <tf.Variable 'InceptionV1/Mixed_3c/Branch_3/Conv2d_0b_1x1/weights:0' shape=(1, 1, 256, 64) dtype=float32_ref>, <tf.Variable 'InceptionV1/Mixed_3c/Branch_3/Conv2d_0b_1x1/BatchNorm/beta:0' shape=(64,) dtype=float32_ref>, <tf.Variable 'InceptionV1/Mixed_3c/Branch_3/Conv2d_0b_1x1/BatchNorm/moving_mean:0' shape=(64,) dtype=float32_ref>, <tf.Variable 'InceptionV1/Mixed_3c/Branch_3/Conv2d_0b_1x1/BatchNorm/moving_variance:0' shape=(64,) dtype=float32_ref>, <tf.Variable 'InceptionV1/Mixed_4b/Branch_0/Conv2d_0a_1x1/weights:0' shape=(1, 1, 480, 192) dtype=float32_ref>, <tf.Variable 'InceptionV1/Mixed_4b/Branch_0/Conv2d_0a_1x1/BatchNorm/beta:0' shape=(192,) dtype=float32_ref>, <tf.Variable 'InceptionV1/Mixed_4b/Branch_0/Conv2d_0a_1x1/BatchNorm/moving_mean:0' shape=(192,) dtype=float32_ref>, <tf.Variable 'InceptionV1/Mixed_4b/Branch_0/Conv2d_0a_1x1/BatchNorm/moving_variance:0' shape=(192,) dtype=float32_ref>, <tf.Variable 'InceptionV1/Mixed_4b/Branch_1/Conv2d_0a_1x1/weights:0' shape=(1, 1, 480, 96) dtype=float32_ref>, <tf.Variable 'InceptionV1/Mixed_4b/Branch_1/Conv2d_0a_1x1/BatchNorm/beta:0' shape=(96,) dtype=float32_ref>, <tf.Variable 'InceptionV1/Mixed_4b/Branch_1/Conv2d_0a_1x1/BatchNorm/moving_mean:0' shape=(96,) dtype=float32_ref>, <tf.Variable 'InceptionV1/Mixed_4b/Branch_1/Conv2d_0a_1x1/BatchNorm/moving_variance:0' shape=(96,) dtype=float32_ref>, <tf.Variable 'InceptionV1/Mixed_4b/Branch_1/Conv2d_0b_3x3/weights:0' shape=(3, 3, 96, 208) dtype=float32_ref>, <tf.Variable 'InceptionV1/Mixed_4b/Branch_1/Conv2d_0b_3x3/BatchNorm/beta:0' shape=(208,) dtype=float32_ref>, <tf.Variable 'InceptionV1/Mixed_4b/Branch_1/Conv2d_0b_3x3/BatchNorm/moving_mean:0' shape=(208,) dtype=float32_ref>, <tf.Variable 'InceptionV1/Mixed_4b/Branch_1/Conv2d_0b_3x3/BatchNorm/moving_variance:0' shape=(208,) dtype=float32_ref>, <tf.Variable 'InceptionV1/Mixed_4b/Branch_2/Conv2d_0a_1x1/weights:0' shape=(1, 1, 480, 16) dtype=float32_ref>, <tf.Variable 'InceptionV1/Mixed_4b/Branch_2/Conv2d_0a_1x1/BatchNorm/beta:0' shape=(16,) dtype=float32_ref>, <tf.Variable 'InceptionV1/Mixed_4b/Branch_2/Conv2d_0a_1x1/BatchNorm/moving_mean:0' shape=(16,) dtype=float32_ref>, <tf.Variable 'InceptionV1/Mixed_4b/Branch_2/Conv2d_0a_1x1/BatchNorm/moving_variance:0' shape=(16,) dtype=float32_ref>, <tf.Variable 'InceptionV1/Mixed_4b/Branch_2/Conv2d_0b_3x3/weights:0' shape=(3, 3, 16, 48) dtype=float32_ref>, <tf.Variable 'InceptionV1/Mixed_4b/Branch_2/Conv2d_0b_3x3/BatchNorm/beta:0' shape=(48,) dtype=float32_ref>, <tf.Variable 'InceptionV1/Mixed_4b/Branch_2/Conv2d_0b_3x3/BatchNorm/moving_mean:0' shape=(48,) dtype=float32_ref>, <tf.Variable 'InceptionV1/Mixed_4b/Branch_2/Conv2d_0b_3x3/BatchNorm/moving_variance:0' shape=(48,) dtype=float32_ref>, <tf.Variable 'InceptionV1/Mixed_4b/Branch_3/Conv2d_0b_1x1/weights:0' shape=(1, 1, 480, 64) dtype=float32_ref>, <tf.Variable 'InceptionV1/Mixed_4b/Branch_3/Conv2d_0b_1x1/BatchNorm/beta:0' shape=(64,) dtype=float32_ref>, <tf.Variable 'InceptionV1/Mixed_4b/Branch_3/Conv2d_0b_1x1/BatchNorm/moving_mean:0' shape=(64,) dtype=float32_ref>, <tf.Variable 'InceptionV1/Mixed_4b/Branch_3/Conv2d_0b_1x1/BatchNorm/moving_variance:0' shape=(64,) dtype=float32_ref>, <tf.Variable 'InceptionV1/Mixed_4c/Branch_0/Conv2d_0a_1x1/weights:0' shape=(1, 1, 512, 160) dtype=float32_ref>, <tf.Variable 'InceptionV1/Mixed_4c/Branch_0/Conv2d_0a_1x1/BatchNorm/beta:0' shape=(160,) dtype=float32_ref>, <tf.Variable 'InceptionV1/Mixed_4c/Branch_0/Conv2d_0a_1x1/BatchNorm/moving_mean:0' shape=(160,) dtype=float32_ref>, <tf.Variable 'InceptionV1/Mixed_4c/Branch_0/Conv2d_0a_1x1/BatchNorm/moving_variance:0' shape=(160,) dtype=float32_ref>, <tf.Variable 'InceptionV1/Mixed_4c/Branch_1/Conv2d_0a_1x1/weights:0' shape=(1, 1, 512, 112) dtype=float32_ref>, <tf.Variable 'InceptionV1/Mixed_4c/Branch_1/Conv2d_0a_1x1/BatchNorm/beta:0' shape=(112,) dtype=float32_ref>, <tf.Variable 'InceptionV1/Mixed_4c/Branch_1/Conv2d_0a_1x1/BatchNorm/moving_mean:0' shape=(112,) dtype=float32_ref>, <tf.Variable 'InceptionV1/Mixed_4c/Branch_1/Conv2d_0a_1x1/BatchNorm/moving_variance:0' shape=(112,) dtype=float32_ref>, <tf.Variable 'InceptionV1/Mixed_4c/Branch_1/Conv2d_0b_3x3/weights:0' shape=(3, 3, 112, 224) dtype=float32_ref>, <tf.Variable 'InceptionV1/Mixed_4c/Branch_1/Conv2d_0b_3x3/BatchNorm/beta:0' shape=(224,) dtype=float32_ref>, <tf.Variable 'InceptionV1/Mixed_4c/Branch_1/Conv2d_0b_3x3/BatchNorm/moving_mean:0' shape=(224,) dtype=float32_ref>, <tf.Variable 'InceptionV1/Mixed_4c/Branch_1/Conv2d_0b_3x3/BatchNorm/moving_variance:0' shape=(224,) dtype=float32_ref>, <tf.Variable 'InceptionV1/Mixed_4c/Branch_2/Conv2d_0a_1x1/weights:0' shape=(1, 1, 512, 24) dtype=float32_ref>, <tf.Variable 'InceptionV1/Mixed_4c/Branch_2/Conv2d_0a_1x1/BatchNorm/beta:0' shape=(24,) dtype=float32_ref>, <tf.Variable 'InceptionV1/Mixed_4c/Branch_2/Conv2d_0a_1x1/BatchNorm/moving_mean:0' shape=(24,) dtype=float32_ref>, <tf.Variable 'InceptionV1/Mixed_4c/Branch_2/Conv2d_0a_1x1/BatchNorm/moving_variance:0' shape=(24,) dtype=float32_ref>, <tf.Variable 'InceptionV1/Mixed_4c/Branch_2/Conv2d_0b_3x3/weights:0' shape=(3, 3, 24, 64) dtype=float32_ref>, <tf.Variable 'InceptionV1/Mixed_4c/Branch_2/Conv2d_0b_3x3/BatchNorm/beta:0' shape=(64,) dtype=float32_ref>, <tf.Variable 'InceptionV1/Mixed_4c/Branch_2/Conv2d_0b_3x3/BatchNorm/moving_mean:0' shape=(64,) dtype=float32_ref>, <tf.Variable 'InceptionV1/Mixed_4c/Branch_2/Conv2d_0b_3x3/BatchNorm/moving_variance:0' shape=(64,) dtype=float32_ref>, <tf.Variable 'InceptionV1/Mixed_4c/Branch_3/Conv2d_0b_1x1/weights:0' shape=(1, 1, 512, 64) dtype=float32_ref>, <tf.Variable 'InceptionV1/Mixed_4c/Branch_3/Conv2d_0b_1x1/BatchNorm/beta:0' shape=(64,) dtype=float32_ref>, <tf.Variable 'InceptionV1/Mixed_4c/Branch_3/Conv2d_0b_1x1/BatchNorm/moving_mean:0' shape=(64,) dtype=float32_ref>, <tf.Variable 'InceptionV1/Mixed_4c/Branch_3/Conv2d_0b_1x1/BatchNorm/moving_variance:0' shape=(64,) dtype=float32_ref>, <tf.Variable 'InceptionV1/Mixed_4d/Branch_0/Conv2d_0a_1x1/weights:0' shape=(1, 1, 512, 128) dtype=float32_ref>, <tf.Variable 'InceptionV1/Mixed_4d/Branch_0/Conv2d_0a_1x1/BatchNorm/beta:0' shape=(128,) dtype=float32_ref>, <tf.Variable 'InceptionV1/Mixed_4d/Branch_0/Conv2d_0a_1x1/BatchNorm/moving_mean:0' shape=(128,) dtype=float32_ref>, <tf.Variable 'InceptionV1/Mixed_4d/Branch_0/Conv2d_0a_1x1/BatchNorm/moving_variance:0' shape=(128,) dtype=float32_ref>, <tf.Variable 'InceptionV1/Mixed_4d/Branch_1/Conv2d_0a_1x1/weights:0' shape=(1, 1, 512, 128) dtype=float32_ref>, <tf.Variable 'InceptionV1/Mixed_4d/Branch_1/Conv2d_0a_1x1/BatchNorm/beta:0' shape=(128,) dtype=float32_ref>, <tf.Variable 'InceptionV1/Mixed_4d/Branch_1/Conv2d_0a_1x1/BatchNorm/moving_mean:0' shape=(128,) dtype=float32_ref>, <tf.Variable 'InceptionV1/Mixed_4d/Branch_1/Conv2d_0a_1x1/BatchNorm/moving_variance:0' shape=(128,) dtype=float32_ref>, <tf.Variable 'InceptionV1/Mixed_4d/Branch_1/Conv2d_0b_3x3/weights:0' shape=(3, 3, 128, 256) dtype=float32_ref>, <tf.Variable 'InceptionV1/Mixed_4d/Branch_1/Conv2d_0b_3x3/BatchNorm/beta:0' shape=(256,) dtype=float32_ref>, <tf.Variable 'InceptionV1/Mixed_4d/Branch_1/Conv2d_0b_3x3/BatchNorm/moving_mean:0' shape=(256,) dtype=float32_ref>, <tf.Variable 'InceptionV1/Mixed_4d/Branch_1/Conv2d_0b_3x3/BatchNorm/moving_variance:0' shape=(256,) dtype=float32_ref>, <tf.Variable 'InceptionV1/Mixed_4d/Branch_2/Conv2d_0a_1x1/weights:0' shape=(1, 1, 512, 24) dtype=float32_ref>, <tf.Variable 'InceptionV1/Mixed_4d/Branch_2/Conv2d_0a_1x1/BatchNorm/beta:0' shape=(24,) dtype=float32_ref>, <tf.Variable 'InceptionV1/Mixed_4d/Branch_2/Conv2d_0a_1x1/BatchNorm/moving_mean:0' shape=(24,) dtype=float32_ref>, <tf.Variable 'InceptionV1/Mixed_4d/Branch_2/Conv2d_0a_1x1/BatchNorm/moving_variance:0' shape=(24,) dtype=float32_ref>, <tf.Variable 'InceptionV1/Mixed_4d/Branch_2/Conv2d_0b_3x3/weights:0' shape=(3, 3, 24, 64) dtype=float32_ref>, <tf.Variable 'InceptionV1/Mixed_4d/Branch_2/Conv2d_0b_3x3/BatchNorm/beta:0' shape=(64,) dtype=float32_ref>, <tf.Variable 'InceptionV1/Mixed_4d/Branch_2/Conv2d_0b_3x3/BatchNorm/moving_mean:0' shape=(64,) dtype=float32_ref>, <tf.Variable 'InceptionV1/Mixed_4d/Branch_2/Conv2d_0b_3x3/BatchNorm/moving_variance:0' shape=(64,) dtype=float32_ref>, <tf.Variable 'InceptionV1/Mixed_4d/Branch_3/Conv2d_0b_1x1/weights:0' shape=(1, 1, 512, 64) dtype=float32_ref>, <tf.Variable 'InceptionV1/Mixed_4d/Branch_3/Conv2d_0b_1x1/BatchNorm/beta:0' shape=(64,) dtype=float32_ref>, <tf.Variable 'InceptionV1/Mixed_4d/Branch_3/Conv2d_0b_1x1/BatchNorm/moving_mean:0' shape=(64,) dtype=float32_ref>, <tf.Variable 'InceptionV1/Mixed_4d/Branch_3/Conv2d_0b_1x1/BatchNorm/moving_variance:0' shape=(64,) dtype=float32_ref>, <tf.Variable 'InceptionV1/Mixed_4e/Branch_0/Conv2d_0a_1x1/weights:0' shape=(1, 1, 512, 112) dtype=float32_ref>, <tf.Variable 'InceptionV1/Mixed_4e/Branch_0/Conv2d_0a_1x1/BatchNorm/beta:0' shape=(112,) dtype=float32_ref>, <tf.Variable 'InceptionV1/Mixed_4e/Branch_0/Conv2d_0a_1x1/BatchNorm/moving_mean:0' shape=(112,) dtype=float32_ref>, <tf.Variable 'InceptionV1/Mixed_4e/Branch_0/Conv2d_0a_1x1/BatchNorm/moving_variance:0' shape=(112,) dtype=float32_ref>, <tf.Variable 'InceptionV1/Mixed_4e/Branch_1/Conv2d_0a_1x1/weights:0' shape=(1, 1, 512, 144) dtype=float32_ref>, <tf.Variable 'InceptionV1/Mixed_4e/Branch_1/Conv2d_0a_1x1/BatchNorm/beta:0' shape=(144,) dtype=float32_ref>, <tf.Variable 'InceptionV1/Mixed_4e/Branch_1/Conv2d_0a_1x1/BatchNorm/moving_mean:0' shape=(144,) dtype=float32_ref>, <tf.Variable 'InceptionV1/Mixed_4e/Branch_1/Conv2d_0a_1x1/BatchNorm/moving_variance:0' shape=(144,) dtype=float32_ref>, <tf.Variable 'InceptionV1/Mixed_4e/Branch_1/Conv2d_0b_3x3/weights:0' shape=(3, 3, 144, 288) dtype=float32_ref>, <tf.Variable 'InceptionV1/Mixed_4e/Branch_1/Conv2d_0b_3x3/BatchNorm/beta:0' shape=(288,) dtype=float32_ref>, <tf.Variable 'InceptionV1/Mixed_4e/Branch_1/Conv2d_0b_3x3/BatchNorm/moving_mean:0' shape=(288,) dtype=float32_ref>, <tf.Variable 'InceptionV1/Mixed_4e/Branch_1/Conv2d_0b_3x3/BatchNorm/moving_variance:0' shape=(288,) dtype=float32_ref>, <tf.Variable 'InceptionV1/Mixed_4e/Branch_2/Conv2d_0a_1x1/weights:0' shape=(1, 1, 512, 32) dtype=float32_ref>, <tf.Variable 'InceptionV1/Mixed_4e/Branch_2/Conv2d_0a_1x1/BatchNorm/beta:0' shape=(32,) dtype=float32_ref>, <tf.Variable 'InceptionV1/Mixed_4e/Branch_2/Conv2d_0a_1x1/BatchNorm/moving_mean:0' shape=(32,) dtype=float32_ref>, <tf.Variable 'InceptionV1/Mixed_4e/Branch_2/Conv2d_0a_1x1/BatchNorm/moving_variance:0' shape=(32,) dtype=float32_ref>, <tf.Variable 'InceptionV1/Mixed_4e/Branch_2/Conv2d_0b_3x3/weights:0' shape=(3, 3, 32, 64) dtype=float32_ref>, <tf.Variable 'InceptionV1/Mixed_4e/Branch_2/Conv2d_0b_3x3/BatchNorm/beta:0' shape=(64,) dtype=float32_ref>, <tf.Variable 'InceptionV1/Mixed_4e/Branch_2/Conv2d_0b_3x3/BatchNorm/moving_mean:0' shape=(64,) dtype=float32_ref>, <tf.Variable 'InceptionV1/Mixed_4e/Branch_2/Conv2d_0b_3x3/BatchNorm/moving_variance:0' shape=(64,) dtype=float32_ref>, <tf.Variable 'InceptionV1/Mixed_4e/Branch_3/Conv2d_0b_1x1/weights:0' shape=(1, 1, 512, 64) dtype=float32_ref>, <tf.Variable 'InceptionV1/Mixed_4e/Branch_3/Conv2d_0b_1x1/BatchNorm/beta:0' shape=(64,) dtype=float32_ref>, <tf.Variable 'InceptionV1/Mixed_4e/Branch_3/Conv2d_0b_1x1/BatchNorm/moving_mean:0' shape=(64,) dtype=float32_ref>, <tf.Variable 'InceptionV1/Mixed_4e/Branch_3/Conv2d_0b_1x1/BatchNorm/moving_variance:0' shape=(64,) dtype=float32_ref>, <tf.Variable 'InceptionV1/Mixed_4f/Branch_0/Conv2d_0a_1x1/weights:0' shape=(1, 1, 528, 256) dtype=float32_ref>, <tf.Variable 'InceptionV1/Mixed_4f/Branch_0/Conv2d_0a_1x1/BatchNorm/beta:0' shape=(256,) dtype=float32_ref>, <tf.Variable 'InceptionV1/Mixed_4f/Branch_0/Conv2d_0a_1x1/BatchNorm/moving_mean:0' shape=(256,) dtype=float32_ref>, <tf.Variable 'InceptionV1/Mixed_4f/Branch_0/Conv2d_0a_1x1/BatchNorm/moving_variance:0' shape=(256,) dtype=float32_ref>, <tf.Variable 'InceptionV1/Mixed_4f/Branch_1/Conv2d_0a_1x1/weights:0' shape=(1, 1, 528, 160) dtype=float32_ref>, <tf.Variable 'InceptionV1/Mixed_4f/Branch_1/Conv2d_0a_1x1/BatchNorm/beta:0' shape=(160,) dtype=float32_ref>, <tf.Variable 'InceptionV1/Mixed_4f/Branch_1/Conv2d_0a_1x1/BatchNorm/moving_mean:0' shape=(160,) dtype=float32_ref>, <tf.Variable 'InceptionV1/Mixed_4f/Branch_1/Conv2d_0a_1x1/BatchNorm/moving_variance:0' shape=(160,) dtype=float32_ref>, <tf.Variable 'InceptionV1/Mixed_4f/Branch_1/Conv2d_0b_3x3/weights:0' shape=(3, 3, 160, 320) dtype=float32_ref>, <tf.Variable 'InceptionV1/Mixed_4f/Branch_1/Conv2d_0b_3x3/BatchNorm/beta:0' shape=(320,) dtype=float32_ref>, <tf.Variable 'InceptionV1/Mixed_4f/Branch_1/Conv2d_0b_3x3/BatchNorm/moving_mean:0' shape=(320,) dtype=float32_ref>, <tf.Variable 'InceptionV1/Mixed_4f/Branch_1/Conv2d_0b_3x3/BatchNorm/moving_variance:0' shape=(320,) dtype=float32_ref>, <tf.Variable 'InceptionV1/Mixed_4f/Branch_2/Conv2d_0a_1x1/weights:0' shape=(1, 1, 528, 32) dtype=float32_ref>, <tf.Variable 'InceptionV1/Mixed_4f/Branch_2/Conv2d_0a_1x1/BatchNorm/beta:0' shape=(32,) dtype=float32_ref>, <tf.Variable 'InceptionV1/Mixed_4f/Branch_2/Conv2d_0a_1x1/BatchNorm/moving_mean:0' shape=(32,) dtype=float32_ref>, <tf.Variable 'InceptionV1/Mixed_4f/Branch_2/Conv2d_0a_1x1/BatchNorm/moving_variance:0' shape=(32,) dtype=float32_ref>, <tf.Variable 'InceptionV1/Mixed_4f/Branch_2/Conv2d_0b_3x3/weights:0' shape=(3, 3, 32, 128) dtype=float32_ref>, <tf.Variable 'InceptionV1/Mixed_4f/Branch_2/Conv2d_0b_3x3/BatchNorm/beta:0' shape=(128,) dtype=float32_ref>, <tf.Variable 'InceptionV1/Mixed_4f/Branch_2/Conv2d_0b_3x3/BatchNorm/moving_mean:0' shape=(128,) dtype=float32_ref>, <tf.Variable 'InceptionV1/Mixed_4f/Branch_2/Conv2d_0b_3x3/BatchNorm/moving_variance:0' shape=(128,) dtype=float32_ref>, <tf.Variable 'InceptionV1/Mixed_4f/Branch_3/Conv2d_0b_1x1/weights:0' shape=(1, 1, 528, 128) dtype=float32_ref>, <tf.Variable 'InceptionV1/Mixed_4f/Branch_3/Conv2d_0b_1x1/BatchNorm/beta:0' shape=(128,) dtype=float32_ref>, <tf.Variable 'InceptionV1/Mixed_4f/Branch_3/Conv2d_0b_1x1/BatchNorm/moving_mean:0' shape=(128,) dtype=float32_ref>, <tf.Variable 'InceptionV1/Mixed_4f/Branch_3/Conv2d_0b_1x1/BatchNorm/moving_variance:0' shape=(128,) dtype=float32_ref>, <tf.Variable 'InceptionV1/Mixed_5b/Branch_0/Conv2d_0a_1x1/weights:0' shape=(1, 1, 832, 256) dtype=float32_ref>, <tf.Variable 'InceptionV1/Mixed_5b/Branch_0/Conv2d_0a_1x1/BatchNorm/beta:0' shape=(256,) dtype=float32_ref>, <tf.Variable 'InceptionV1/Mixed_5b/Branch_0/Conv2d_0a_1x1/BatchNorm/moving_mean:0' shape=(256,) dtype=float32_ref>, <tf.Variable 'InceptionV1/Mixed_5b/Branch_0/Conv2d_0a_1x1/BatchNorm/moving_variance:0' shape=(256,) dtype=float32_ref>, <tf.Variable 'InceptionV1/Mixed_5b/Branch_1/Conv2d_0a_1x1/weights:0' shape=(1, 1, 832, 160) dtype=float32_ref>, <tf.Variable 'InceptionV1/Mixed_5b/Branch_1/Conv2d_0a_1x1/BatchNorm/beta:0' shape=(160,) dtype=float32_ref>, <tf.Variable 'InceptionV1/Mixed_5b/Branch_1/Conv2d_0a_1x1/BatchNorm/moving_mean:0' shape=(160,) dtype=float32_ref>, <tf.Variable 'InceptionV1/Mixed_5b/Branch_1/Conv2d_0a_1x1/BatchNorm/moving_variance:0' shape=(160,) dtype=float32_ref>, <tf.Variable 'InceptionV1/Mixed_5b/Branch_1/Conv2d_0b_3x3/weights:0' shape=(3, 3, 160, 320) dtype=float32_ref>, <tf.Variable 'InceptionV1/Mixed_5b/Branch_1/Conv2d_0b_3x3/BatchNorm/beta:0' shape=(320,) dtype=float32_ref>, <tf.Variable 'InceptionV1/Mixed_5b/Branch_1/Conv2d_0b_3x3/BatchNorm/moving_mean:0' shape=(320,) dtype=float32_ref>, <tf.Variable 'InceptionV1/Mixed_5b/Branch_1/Conv2d_0b_3x3/BatchNorm/moving_variance:0' shape=(320,) dtype=float32_ref>, <tf.Variable 'InceptionV1/Mixed_5b/Branch_2/Conv2d_0a_1x1/weights:0' shape=(1, 1, 832, 32) dtype=float32_ref>, <tf.Variable 'InceptionV1/Mixed_5b/Branch_2/Conv2d_0a_1x1/BatchNorm/beta:0' shape=(32,) dtype=float32_ref>, <tf.Variable 'InceptionV1/Mixed_5b/Branch_2/Conv2d_0a_1x1/BatchNorm/moving_mean:0' shape=(32,) dtype=float32_ref>, <tf.Variable 'InceptionV1/Mixed_5b/Branch_2/Conv2d_0a_1x1/BatchNorm/moving_variance:0' shape=(32,) dtype=float32_ref>, <tf.Variable 'InceptionV1/Mixed_5b/Branch_2/Conv2d_0a_3x3/weights:0' shape=(3, 3, 32, 128) dtype=float32_ref>, <tf.Variable 'InceptionV1/Mixed_5b/Branch_2/Conv2d_0a_3x3/BatchNorm/beta:0' shape=(128,) dtype=float32_ref>, <tf.Variable 'InceptionV1/Mixed_5b/Branch_2/Conv2d_0a_3x3/BatchNorm/moving_mean:0' shape=(128,) dtype=float32_ref>, <tf.Variable 'InceptionV1/Mixed_5b/Branch_2/Conv2d_0a_3x3/BatchNorm/moving_variance:0' shape=(128,) dtype=float32_ref>, <tf.Variable 'InceptionV1/Mixed_5b/Branch_3/Conv2d_0b_1x1/weights:0' shape=(1, 1, 832, 128) dtype=float32_ref>, <tf.Variable 'InceptionV1/Mixed_5b/Branch_3/Conv2d_0b_1x1/BatchNorm/beta:0' shape=(128,) dtype=float32_ref>, <tf.Variable 'InceptionV1/Mixed_5b/Branch_3/Conv2d_0b_1x1/BatchNorm/moving_mean:0' shape=(128,) dtype=float32_ref>, <tf.Variable 'InceptionV1/Mixed_5b/Branch_3/Conv2d_0b_1x1/BatchNorm/moving_variance:0' shape=(128,) dtype=float32_ref>, <tf.Variable 'InceptionV1/Mixed_5c/Branch_0/Conv2d_0a_1x1/weights:0' shape=(1, 1, 832, 384) dtype=float32_ref>, <tf.Variable 'InceptionV1/Mixed_5c/Branch_0/Conv2d_0a_1x1/BatchNorm/beta:0' shape=(384,) dtype=float32_ref>, <tf.Variable 'InceptionV1/Mixed_5c/Branch_0/Conv2d_0a_1x1/BatchNorm/moving_mean:0' shape=(384,) dtype=float32_ref>, <tf.Variable 'InceptionV1/Mixed_5c/Branch_0/Conv2d_0a_1x1/BatchNorm/moving_variance:0' shape=(384,) dtype=float32_ref>, <tf.Variable 'InceptionV1/Mixed_5c/Branch_1/Conv2d_0a_1x1/weights:0' shape=(1, 1, 832, 192) dtype=float32_ref>, <tf.Variable 'InceptionV1/Mixed_5c/Branch_1/Conv2d_0a_1x1/BatchNorm/beta:0' shape=(192,) dtype=float32_ref>, <tf.Variable 'InceptionV1/Mixed_5c/Branch_1/Conv2d_0a_1x1/BatchNorm/moving_mean:0' shape=(192,) dtype=float32_ref>, <tf.Variable 'InceptionV1/Mixed_5c/Branch_1/Conv2d_0a_1x1/BatchNorm/moving_variance:0' shape=(192,) dtype=float32_ref>, <tf.Variable 'InceptionV1/Mixed_5c/Branch_1/Conv2d_0b_3x3/weights:0' shape=(3, 3, 192, 384) dtype=float32_ref>, <tf.Variable 'InceptionV1/Mixed_5c/Branch_1/Conv2d_0b_3x3/BatchNorm/beta:0' shape=(384,) dtype=float32_ref>, <tf.Variable 'InceptionV1/Mixed_5c/Branch_1/Conv2d_0b_3x3/BatchNorm/moving_mean:0' shape=(384,) dtype=float32_ref>, <tf.Variable 'InceptionV1/Mixed_5c/Branch_1/Conv2d_0b_3x3/BatchNorm/moving_variance:0' shape=(384,) dtype=float32_ref>, <tf.Variable 'InceptionV1/Mixed_5c/Branch_2/Conv2d_0a_1x1/weights:0' shape=(1, 1, 832, 48) dtype=float32_ref>, <tf.Variable 'InceptionV1/Mixed_5c/Branch_2/Conv2d_0a_1x1/BatchNorm/beta:0' shape=(48,) dtype=float32_ref>, <tf.Variable 'InceptionV1/Mixed_5c/Branch_2/Conv2d_0a_1x1/BatchNorm/moving_mean:0' shape=(48,) dtype=float32_ref>, <tf.Variable 'InceptionV1/Mixed_5c/Branch_2/Conv2d_0a_1x1/BatchNorm/moving_variance:0' shape=(48,) dtype=float32_ref>, <tf.Variable 'InceptionV1/Mixed_5c/Branch_2/Conv2d_0b_3x3/weights:0' shape=(3, 3, 48, 128) dtype=float32_ref>, <tf.Variable 'InceptionV1/Mixed_5c/Branch_2/Conv2d_0b_3x3/BatchNorm/beta:0' shape=(128,) dtype=float32_ref>, <tf.Variable 'InceptionV1/Mixed_5c/Branch_2/Conv2d_0b_3x3/BatchNorm/moving_mean:0' shape=(128,) dtype=float32_ref>, <tf.Variable 'InceptionV1/Mixed_5c/Branch_2/Conv2d_0b_3x3/BatchNorm/moving_variance:0' shape=(128,) dtype=float32_ref>, <tf.Variable 'InceptionV1/Mixed_5c/Branch_3/Conv2d_0b_1x1/weights:0' shape=(1, 1, 832, 128) dtype=float32_ref>, <tf.Variable 'InceptionV1/Mixed_5c/Branch_3/Conv2d_0b_1x1/BatchNorm/beta:0' shape=(128,) dtype=float32_ref>, <tf.Variable 'InceptionV1/Mixed_5c/Branch_3/Conv2d_0b_1x1/BatchNorm/moving_mean:0' shape=(128,) dtype=float32_ref>, <tf.Variable 'InceptionV1/Mixed_5c/Branch_3/Conv2d_0b_1x1/BatchNorm/moving_variance:0' shape=(128,) dtype=float32_ref>, <tf.Variable 'InceptionV1/Logits/Conv2d_0c_1x1/weights:0' shape=(1, 1, 1024, 1001) dtype=float32_ref>, <tf.Variable 'InceptionV1/Logits/Conv2d_0c_1x1/biases:0' shape=(1001,) dtype=float32_ref>]\n"
     ]
    },
    {
     "name": "stderr",
     "output_type": "stream",
     "text": [
      "/home/w266ajh/.local/lib/python3.6/site-packages/tensorflow/python/client/session.py:1645: UserWarning: An interactive session is already active. This can cause out-of-memory errors in some cases. You must explicitly call `InteractiveSession.close()` to release resources held by the other session(s).\n",
      "  warnings.warn('An interactive session is already active. This can '\n"
     ]
    }
   ],
   "source": [
    "sess = tf.InteractiveSession()\n",
    "restore_vars = [\n",
    "    var for var in tf.global_variables()\n",
    "    if var.name.startswith('InceptionV1/')\n",
    "]\n",
    "print(restore_vars)\n",
    "saver = tf.train.Saver(restore_vars)\n",
    "saver.restore(sess, os.path.join(data_dir, 'inception_v1.ckpt'))"
   ]
  },
  {
   "cell_type": "code",
   "execution_count": 6,
   "metadata": {},
   "outputs": [
    {
     "name": "stdout",
     "output_type": "stream",
     "text": [
      "Tensor(\"fc_layers/Squeeze:0\", shape=(?, 1000), dtype=float32)\n",
      "Tensor(\"Softmax_1:0\", shape=(?, 1000), dtype=float32)\n"
     ]
    }
   ],
   "source": [
    "# original\n",
    "print(logits)\n",
    "print(probs)"
   ]
  },
  {
   "cell_type": "code",
   "execution_count": 7,
   "metadata": {},
   "outputs": [
    {
     "name": "stdout",
     "output_type": "stream",
     "text": [
      "img saved to /tmp/tmp3ukmleis\n"
     ]
    },
    {
     "name": "stderr",
     "output_type": "stream",
     "text": [
      "/home/w266ajh/.local/lib/python3.6/site-packages/skimage/util/dtype.py:141: UserWarning: Possible precision loss when converting from float32 to uint8\n",
      "  .format(dtypeobj_in, dtypeobj_out))\n"
     ]
    }
   ],
   "source": [
    "# Get an image\n",
    "import tempfile\n",
    "from skimage.io import imsave\n",
    "from urllib.request import urlretrieve\n",
    "import PIL\n",
    "import numpy as np\n",
    "\n",
    "tmp_dir = tempfile.mkdtemp()\n",
    "\n",
    "img_path, _ = urlretrieve('http://www.anishathalye.com/media/2017/07/25/cat.jpg')\n",
    "img_class = 281\n",
    "img = PIL.Image.open(img_path)\n",
    "big_dim = max(img.width, img.height)\n",
    "wide = img.width > img.height\n",
    "new_w = 224 if not wide else int(img.width * 224 / img.height)\n",
    "new_h = 224 if wide else int(img.height * 224 / img.width)\n",
    "img = img.resize((new_w, new_h)).crop((0, 0, 224, 224))\n",
    "img = (np.asarray(img) / 255.0).astype(np.float32)\n",
    "\n",
    "imsave(tmp_dir + \"/img_in.png\", img, plugin='pil', format_str='png')\n",
    "print(\"img saved to \" + tmp_dir)"
   ]
  },
  {
   "cell_type": "code",
   "execution_count": 8,
   "metadata": {
    "scrolled": false
   },
   "outputs": [
    {
     "name": "stdout",
     "output_type": "stream",
     "text": [
      "/tmp/tmp3ukmleis/img_in.png\n",
      "1: probability: 0.62, label: tabby\n",
      "2: probability: 0.31, label: tiger cat\n",
      "3: probability: 0.07, label: Egyptian cat\n",
      "4: probability: 0.00, label: lynx\n",
      "5: probability: 0.00, label: window screen\n"
     ]
    },
    {
     "name": "stderr",
     "output_type": "stream",
     "text": [
      "/home/w266ajh/.local/lib/python3.6/site-packages/skimage/transform/_warps.py:105: UserWarning: The default mode, 'constant', will be changed to 'reflect' in skimage 0.15.\n",
      "  warn(\"The default mode, 'constant', will be changed to 'reflect' in \"\n",
      "/home/w266ajh/.local/lib/python3.6/site-packages/skimage/transform/_warps.py:110: UserWarning: Anti-aliasing will be enabled by default in skimage 0.15 to avoid aliasing artifacts when down-sampling images.\n",
      "  warn(\"Anti-aliasing will be enabled by default in skimage 0.15 to \"\n"
     ]
    }
   ],
   "source": [
    "a = get_top_five(tmp_dir, '.png')\n",
    "for thing in a: \n",
    "    for t in thing: print(t)"
   ]
  },
  {
   "cell_type": "markdown",
   "metadata": {},
   "source": [
    "## Adversarial setup"
   ]
  },
  {
   "cell_type": "code",
   "execution_count": 9,
   "metadata": {},
   "outputs": [
    {
     "name": "stdout",
     "output_type": "stream",
     "text": [
      "Tensor(\"label:0\", shape=(?,), dtype=int64)\n",
      "[<tf.Tensor 'one_hot:0' shape=(1000,) dtype=float32>]\n",
      "Tensor(\"one_hot:0\", shape=(1000,), dtype=float32)\n",
      "[<tf.Tensor 'label:0' shape=(?,) dtype=int64>]\n",
      "name: \"GradientDescent\"\n",
      "op: \"NoOp\"\n",
      "input: \"^GradientDescent/update_conv_layers/conv1_7x7_s2/weights/ApplyGradientDescent\"\n",
      "input: \"^GradientDescent/update_conv_layers/conv1_7x7_s2/biases/ApplyGradientDescent\"\n",
      "input: \"^GradientDescent/update_conv_layers/conv2_3x3_reduce/weights/ApplyGradientDescent\"\n",
      "input: \"^GradientDescent/update_conv_layers/conv2_3x3_reduce/biases/ApplyGradientDescent\"\n",
      "input: \"^GradientDescent/update_conv_layers/conv2_3x3/weights/ApplyGradientDescent\"\n",
      "input: \"^GradientDescent/update_conv_layers/conv2_3x3/biases/ApplyGradientDescent\"\n",
      "input: \"^GradientDescent/update_inception_layers/inception_3a_1x1/weights/ApplyGradientDescent\"\n",
      "input: \"^GradientDescent/update_inception_layers/inception_3a_1x1/biases/ApplyGradientDescent\"\n",
      "input: \"^GradientDescent/update_inception_layers/inception_3a_3x3_reduce/weights/ApplyGradientDescent\"\n",
      "input: \"^GradientDescent/update_inception_layers/inception_3a_3x3_reduce/biases/ApplyGradientDescent\"\n",
      "input: \"^GradientDescent/update_inception_layers/inception_3a_3x3/weights/ApplyGradientDescent\"\n",
      "input: \"^GradientDescent/update_inception_layers/inception_3a_3x3/biases/ApplyGradientDescent\"\n",
      "input: \"^GradientDescent/update_inception_layers/inception_3a_5x5_reduce/weights/ApplyGradientDescent\"\n",
      "input: \"^GradientDescent/update_inception_layers/inception_3a_5x5_reduce/biases/ApplyGradientDescent\"\n",
      "input: \"^GradientDescent/update_inception_layers/inception_3a_5x5/weights/ApplyGradientDescent\"\n",
      "input: \"^GradientDescent/update_inception_layers/inception_3a_5x5/biases/ApplyGradientDescent\"\n",
      "input: \"^GradientDescent/update_inception_layers/inception_3a_pool_proj/weights/ApplyGradientDescent\"\n",
      "input: \"^GradientDescent/update_inception_layers/inception_3a_pool_proj/biases/ApplyGradientDescent\"\n",
      "input: \"^GradientDescent/update_inception_layers/inception_3b_1x1/weights/ApplyGradientDescent\"\n",
      "input: \"^GradientDescent/update_inception_layers/inception_3b_1x1/biases/ApplyGradientDescent\"\n",
      "input: \"^GradientDescent/update_inception_layers/inception_3b_3x3_reduce/weights/ApplyGradientDescent\"\n",
      "input: \"^GradientDescent/update_inception_layers/inception_3b_3x3_reduce/biases/ApplyGradientDescent\"\n",
      "input: \"^GradientDescent/update_inception_layers/inception_3b_3x3/weights/ApplyGradientDescent\"\n",
      "input: \"^GradientDescent/update_inception_layers/inception_3b_3x3/biases/ApplyGradientDescent\"\n",
      "input: \"^GradientDescent/update_inception_layers/inception_3b_5x5_reduce/weights/ApplyGradientDescent\"\n",
      "input: \"^GradientDescent/update_inception_layers/inception_3b_5x5_reduce/biases/ApplyGradientDescent\"\n",
      "input: \"^GradientDescent/update_inception_layers/inception_3b_5x5/weights/ApplyGradientDescent\"\n",
      "input: \"^GradientDescent/update_inception_layers/inception_3b_5x5/biases/ApplyGradientDescent\"\n",
      "input: \"^GradientDescent/update_inception_layers/inception_3b_pool_proj/weights/ApplyGradientDescent\"\n",
      "input: \"^GradientDescent/update_inception_layers/inception_3b_pool_proj/biases/ApplyGradientDescent\"\n",
      "input: \"^GradientDescent/update_inception_layers/inception_4a_1x1/weights/ApplyGradientDescent\"\n",
      "input: \"^GradientDescent/update_inception_layers/inception_4a_1x1/biases/ApplyGradientDescent\"\n",
      "input: \"^GradientDescent/update_inception_layers/inception_4a_3x3_reduce/weights/ApplyGradientDescent\"\n",
      "input: \"^GradientDescent/update_inception_layers/inception_4a_3x3_reduce/biases/ApplyGradientDescent\"\n",
      "input: \"^GradientDescent/update_inception_layers/inception_4a_3x3/weights/ApplyGradientDescent\"\n",
      "input: \"^GradientDescent/update_inception_layers/inception_4a_3x3/biases/ApplyGradientDescent\"\n",
      "input: \"^GradientDescent/update_inception_layers/inception_4a_5x5_reduce/weights/ApplyGradientDescent\"\n",
      "input: \"^GradientDescent/update_inception_layers/inception_4a_5x5_reduce/biases/ApplyGradientDescent\"\n",
      "input: \"^GradientDescent/update_inception_layers/inception_4a_5x5/weights/ApplyGradientDescent\"\n",
      "input: \"^GradientDescent/update_inception_layers/inception_4a_5x5/biases/ApplyGradientDescent\"\n",
      "input: \"^GradientDescent/update_inception_layers/inception_4a_pool_proj/weights/ApplyGradientDescent\"\n",
      "input: \"^GradientDescent/update_inception_layers/inception_4a_pool_proj/biases/ApplyGradientDescent\"\n",
      "input: \"^GradientDescent/update_inception_layers/inception_4b_1x1/weights/ApplyGradientDescent\"\n",
      "input: \"^GradientDescent/update_inception_layers/inception_4b_1x1/biases/ApplyGradientDescent\"\n",
      "input: \"^GradientDescent/update_inception_layers/inception_4b_3x3_reduce/weights/ApplyGradientDescent\"\n",
      "input: \"^GradientDescent/update_inception_layers/inception_4b_3x3_reduce/biases/ApplyGradientDescent\"\n",
      "input: \"^GradientDescent/update_inception_layers/inception_4b_3x3/weights/ApplyGradientDescent\"\n",
      "input: \"^GradientDescent/update_inception_layers/inception_4b_3x3/biases/ApplyGradientDescent\"\n",
      "input: \"^GradientDescent/update_inception_layers/inception_4b_5x5_reduce/weights/ApplyGradientDescent\"\n",
      "input: \"^GradientDescent/update_inception_layers/inception_4b_5x5_reduce/biases/ApplyGradientDescent\"\n",
      "input: \"^GradientDescent/update_inception_layers/inception_4b_5x5/weights/ApplyGradientDescent\"\n",
      "input: \"^GradientDescent/update_inception_layers/inception_4b_5x5/biases/ApplyGradientDescent\"\n",
      "input: \"^GradientDescent/update_inception_layers/inception_4b_pool_proj/weights/ApplyGradientDescent\"\n",
      "input: \"^GradientDescent/update_inception_layers/inception_4b_pool_proj/biases/ApplyGradientDescent\"\n",
      "input: \"^GradientDescent/update_inception_layers/inception_4c_1x1/weights/ApplyGradientDescent\"\n",
      "input: \"^GradientDescent/update_inception_layers/inception_4c_1x1/biases/ApplyGradientDescent\"\n",
      "input: \"^GradientDescent/update_inception_layers/inception_4c_3x3_reduce/weights/ApplyGradientDescent\"\n",
      "input: \"^GradientDescent/update_inception_layers/inception_4c_3x3_reduce/biases/ApplyGradientDescent\"\n",
      "input: \"^GradientDescent/update_inception_layers/inception_4c_3x3/weights/ApplyGradientDescent\"\n",
      "input: \"^GradientDescent/update_inception_layers/inception_4c_3x3/biases/ApplyGradientDescent\"\n",
      "input: \"^GradientDescent/update_inception_layers/inception_4c_5x5_reduce/weights/ApplyGradientDescent\"\n",
      "input: \"^GradientDescent/update_inception_layers/inception_4c_5x5_reduce/biases/ApplyGradientDescent\"\n",
      "input: \"^GradientDescent/update_inception_layers/inception_4c_5x5/weights/ApplyGradientDescent\"\n",
      "input: \"^GradientDescent/update_inception_layers/inception_4c_5x5/biases/ApplyGradientDescent\"\n",
      "input: \"^GradientDescent/update_inception_layers/inception_4c_pool_proj/weights/ApplyGradientDescent\"\n",
      "input: \"^GradientDescent/update_inception_layers/inception_4c_pool_proj/biases/ApplyGradientDescent\"\n",
      "input: \"^GradientDescent/update_inception_layers/inception_4d_1x1/weights/ApplyGradientDescent\"\n",
      "input: \"^GradientDescent/update_inception_layers/inception_4d_1x1/biases/ApplyGradientDescent\"\n",
      "input: \"^GradientDescent/update_inception_layers/inception_4d_3x3_reduce/weights/ApplyGradientDescent\"\n",
      "input: \"^GradientDescent/update_inception_layers/inception_4d_3x3_reduce/biases/ApplyGradientDescent\"\n",
      "input: \"^GradientDescent/update_inception_layers/inception_4d_3x3/weights/ApplyGradientDescent\"\n",
      "input: \"^GradientDescent/update_inception_layers/inception_4d_3x3/biases/ApplyGradientDescent\"\n",
      "input: \"^GradientDescent/update_inception_layers/inception_4d_5x5_reduce/weights/ApplyGradientDescent\"\n",
      "input: \"^GradientDescent/update_inception_layers/inception_4d_5x5_reduce/biases/ApplyGradientDescent\"\n",
      "input: \"^GradientDescent/update_inception_layers/inception_4d_5x5/weights/ApplyGradientDescent\"\n",
      "input: \"^GradientDescent/update_inception_layers/inception_4d_5x5/biases/ApplyGradientDescent\"\n",
      "input: \"^GradientDescent/update_inception_layers/inception_4d_pool_proj/weights/ApplyGradientDescent\"\n",
      "input: \"^GradientDescent/update_inception_layers/inception_4d_pool_proj/biases/ApplyGradientDescent\"\n",
      "input: \"^GradientDescent/update_inception_layers/inception_4e_1x1/weights/ApplyGradientDescent\"\n",
      "input: \"^GradientDescent/update_inception_layers/inception_4e_1x1/biases/ApplyGradientDescent\"\n",
      "input: \"^GradientDescent/update_inception_layers/inception_4e_3x3_reduce/weights/ApplyGradientDescent\"\n",
      "input: \"^GradientDescent/update_inception_layers/inception_4e_3x3_reduce/biases/ApplyGradientDescent\"\n",
      "input: \"^GradientDescent/update_inception_layers/inception_4e_3x3/weights/ApplyGradientDescent\"\n",
      "input: \"^GradientDescent/update_inception_layers/inception_4e_3x3/biases/ApplyGradientDescent\"\n",
      "input: \"^GradientDescent/update_inception_layers/inception_4e_5x5_reduce/weights/ApplyGradientDescent\"\n",
      "input: \"^GradientDescent/update_inception_layers/inception_4e_5x5_reduce/biases/ApplyGradientDescent\"\n",
      "input: \"^GradientDescent/update_inception_layers/inception_4e_5x5/weights/ApplyGradientDescent\"\n",
      "input: \"^GradientDescent/update_inception_layers/inception_4e_5x5/biases/ApplyGradientDescent\"\n",
      "input: \"^GradientDescent/update_inception_layers/inception_4e_pool_proj/weights/ApplyGradientDescent\"\n",
      "input: \"^GradientDescent/update_inception_layers/inception_4e_pool_proj/biases/ApplyGradientDescent\"\n",
      "input: \"^GradientDescent/update_inception_layers/inception_5a_1x1/weights/ApplyGradientDescent\"\n",
      "input: \"^GradientDescent/update_inception_layers/inception_5a_1x1/biases/ApplyGradientDescent\"\n",
      "input: \"^GradientDescent/update_inception_layers/inception_5a_3x3_reduce/weights/ApplyGradientDescent\"\n",
      "input: \"^GradientDescent/update_inception_layers/inception_5a_3x3_reduce/biases/ApplyGradientDescent\"\n",
      "input: \"^GradientDescent/update_inception_layers/inception_5a_3x3/weights/ApplyGradientDescent\"\n",
      "input: \"^GradientDescent/update_inception_layers/inception_5a_3x3/biases/ApplyGradientDescent\"\n",
      "input: \"^GradientDescent/update_inception_layers/inception_5a_5x5_reduce/weights/ApplyGradientDescent\"\n",
      "input: \"^GradientDescent/update_inception_layers/inception_5a_5x5_reduce/biases/ApplyGradientDescent\"\n",
      "input: \"^GradientDescent/update_inception_layers/inception_5a_5x5/weights/ApplyGradientDescent\"\n",
      "input: \"^GradientDescent/update_inception_layers/inception_5a_5x5/biases/ApplyGradientDescent\"\n",
      "input: \"^GradientDescent/update_inception_layers/inception_5a_pool_proj/weights/ApplyGradientDescent\"\n",
      "input: \"^GradientDescent/update_inception_layers/inception_5a_pool_proj/biases/ApplyGradientDescent\"\n",
      "input: \"^GradientDescent/update_inception_layers/inception_5b_1x1/weights/ApplyGradientDescent\"\n",
      "input: \"^GradientDescent/update_inception_layers/inception_5b_1x1/biases/ApplyGradientDescent\"\n",
      "input: \"^GradientDescent/update_inception_layers/inception_5b_3x3_reduce/weights/ApplyGradientDescent\"\n",
      "input: \"^GradientDescent/update_inception_layers/inception_5b_3x3_reduce/biases/ApplyGradientDescent\"\n",
      "input: \"^GradientDescent/update_inception_layers/inception_5b_3x3/weights/ApplyGradientDescent\"\n",
      "input: \"^GradientDescent/update_inception_layers/inception_5b_3x3/biases/ApplyGradientDescent\"\n",
      "input: \"^GradientDescent/update_inception_layers/inception_5b_5x5_reduce/weights/ApplyGradientDescent\"\n",
      "input: \"^GradientDescent/update_inception_layers/inception_5b_5x5_reduce/biases/ApplyGradientDescent\"\n",
      "input: \"^GradientDescent/update_inception_layers/inception_5b_5x5/weights/ApplyGradientDescent\"\n",
      "input: \"^GradientDescent/update_inception_layers/inception_5b_5x5/biases/ApplyGradientDescent\"\n",
      "input: \"^GradientDescent/update_inception_layers/inception_5b_pool_proj/weights/ApplyGradientDescent\"\n",
      "input: \"^GradientDescent/update_inception_layers/inception_5b_pool_proj/biases/ApplyGradientDescent\"\n",
      "input: \"^GradientDescent/update_fc_layers/loss3_classifier/weights/ApplyGradientDescent\"\n",
      "input: \"^GradientDescent/update_fc_layers/loss3_classifier/biases/ApplyGradientDescent\"\n",
      "\n",
      "<tf.Variable 'Variable:0' shape=(224, 224, 3) dtype=float32_ref>\n"
     ]
    }
   ],
   "source": [
    "# Initialization\n",
    "x = tf.placeholder(tf.float32, (224, 224, 3))\n",
    "\n",
    "x_hat = image # our trainable adversarial input\n",
    "assign_op = tf.assign(x_hat, x)\n",
    "\n",
    "\n",
    "# Gradient descent\n",
    "learning_rate = tf.placeholder(tf.float32, ())\n",
    "y_hat = tf.placeholder(tf.int32, ())\n",
    "\n",
    "labels = tf.one_hot(y_hat, 1000)\n",
    "# my code\n",
    "print(get_labels())\n",
    "print([labels])\n",
    "print(labels)\n",
    "print([get_labels()])\n",
    "loss = tf.nn.sparse_softmax_cross_entropy_with_logits(logits=logits, labels=get_labels())\n",
    "loss = tf.reduce_mean(loss)\n",
    "# original\n",
    "#loss = tf.nn.softmax_cross_entropy_with_logits(logits=logits, labels=[labels])\n",
    "# This works if I comment out the optional var_list param\n",
    "optim_step = tf.train.GradientDescentOptimizer(\n",
    "    learning_rate).minimize(loss)#, var_list=[x_hat])\n",
    "\n",
    "# Projection\n",
    "epsilon = tf.placeholder(tf.float32, ())\n",
    "\n",
    "below = x - epsilon\n",
    "above = x + epsilon\n",
    "projected = tf.clip_by_value(tf.clip_by_value(x_hat, below, above), 0, 1)\n",
    "with tf.control_dependencies([projected]):\n",
    "    project_step = tf.assign(x_hat, projected)\n",
    "    \n",
    "print(optim_step)\n",
    "print(x_hat)"
   ]
  },
  {
   "cell_type": "code",
   "execution_count": 23,
   "metadata": {
    "scrolled": true
   },
   "outputs": [
    {
     "ename": "FailedPreconditionError",
     "evalue": "Attempting to use uninitialized value fc_layers/loss3_classifier/biases\n\t [[Node: fc_layers/loss3_classifier/biases/read = Identity[T=DT_FLOAT, _class=[\"loc:@fc_layers/loss3_classifier/biases\"], _device=\"/job:localhost/replica:0/task:0/device:CPU:0\"](fc_layers/loss3_classifier/biases)]]\n\nCaused by op 'fc_layers/loss3_classifier/biases/read', defined at:\n  File \"/usr/lib/python3.6/runpy.py\", line 193, in _run_module_as_main\n    \"__main__\", mod_spec)\n  File \"/usr/lib/python3.6/runpy.py\", line 85, in _run_code\n    exec(code, run_globals)\n  File \"/usr/local/lib/python3.6/dist-packages/ipykernel_launcher.py\", line 16, in <module>\n    app.launch_new_instance()\n  File \"/home/w266ajh/.local/lib/python3.6/site-packages/traitlets/config/application.py\", line 658, in launch_instance\n    app.start()\n  File \"/usr/local/lib/python3.6/dist-packages/ipykernel/kernelapp.py\", line 505, in start\n    self.io_loop.start()\n  File \"/usr/local/lib/python3.6/dist-packages/tornado/platform/asyncio.py\", line 132, in start\n    self.asyncio_loop.run_forever()\n  File \"/usr/lib/python3.6/asyncio/base_events.py\", line 422, in run_forever\n    self._run_once()\n  File \"/usr/lib/python3.6/asyncio/base_events.py\", line 1434, in _run_once\n    handle._run()\n  File \"/usr/lib/python3.6/asyncio/events.py\", line 145, in _run\n    self._callback(*self._args)\n  File \"/usr/local/lib/python3.6/dist-packages/tornado/ioloop.py\", line 758, in _run_callback\n    ret = callback()\n  File \"/usr/local/lib/python3.6/dist-packages/tornado/stack_context.py\", line 300, in null_wrapper\n    return fn(*args, **kwargs)\n  File \"/usr/local/lib/python3.6/dist-packages/tornado/gen.py\", line 1233, in inner\n    self.run()\n  File \"/usr/local/lib/python3.6/dist-packages/tornado/gen.py\", line 1147, in run\n    yielded = self.gen.send(value)\n  File \"/usr/local/lib/python3.6/dist-packages/ipykernel/kernelbase.py\", line 357, in process_one\n    yield gen.maybe_future(dispatch(*args))\n  File \"/usr/local/lib/python3.6/dist-packages/tornado/gen.py\", line 326, in wrapper\n    yielded = next(result)\n  File \"/usr/local/lib/python3.6/dist-packages/ipykernel/kernelbase.py\", line 267, in dispatch_shell\n    yield gen.maybe_future(handler(stream, idents, msg))\n  File \"/usr/local/lib/python3.6/dist-packages/tornado/gen.py\", line 326, in wrapper\n    yielded = next(result)\n  File \"/usr/local/lib/python3.6/dist-packages/ipykernel/kernelbase.py\", line 534, in execute_request\n    user_expressions, allow_stdin,\n  File \"/usr/local/lib/python3.6/dist-packages/tornado/gen.py\", line 326, in wrapper\n    yielded = next(result)\n  File \"/usr/local/lib/python3.6/dist-packages/ipykernel/ipkernel.py\", line 294, in do_execute\n    res = shell.run_cell(code, store_history=store_history, silent=silent)\n  File \"/usr/local/lib/python3.6/dist-packages/ipykernel/zmqshell.py\", line 536, in run_cell\n    return super(ZMQInteractiveShell, self).run_cell(*args, **kwargs)\n  File \"/home/w266ajh/.local/lib/python3.6/site-packages/IPython/core/interactiveshell.py\", line 2662, in run_cell\n    raw_cell, store_history, silent, shell_futures)\n  File \"/home/w266ajh/.local/lib/python3.6/site-packages/IPython/core/interactiveshell.py\", line 2785, in _run_cell\n    interactivity=interactivity, compiler=compiler, result=result)\n  File \"/home/w266ajh/.local/lib/python3.6/site-packages/IPython/core/interactiveshell.py\", line 2901, in run_ast_nodes\n    if self.run_code(code, result):\n  File \"/home/w266ajh/.local/lib/python3.6/site-packages/IPython/core/interactiveshell.py\", line 2961, in run_code\n    exec(code_obj, self.user_global_ns, self.user_ns)\n  File \"<ipython-input-1-359d8000d822>\", line 5, in <module>\n    from top5gen.examples.inception_pretrained import get_top_five, get_logits, get_labels\n  File \"<frozen importlib._bootstrap>\", line 971, in _find_and_load\n  File \"<frozen importlib._bootstrap>\", line 955, in _find_and_load_unlocked\n  File \"<frozen importlib._bootstrap>\", line 665, in _load_unlocked\n  File \"<frozen importlib._bootstrap_external>\", line 678, in exec_module\n  File \"<frozen importlib._bootstrap>\", line 219, in _call_with_frames_removed\n  File \"../top5gen/examples/inception_pretrained.py\", line 25, in <module>\n    test_model.create_test_model()\n  File \"../top5gen/src/nets/googlenet.py\", line 85, in create_test_model\n    self.layers['logits'] = self._fc_layers(self.layers['inception_out'])\n  File \"../top5gen/src/nets/googlenet.py\", line 112, in _fc_layers\n    is_training=self.is_training, wd=self._wd)\n  File \"../top5gen/src/models/inception_module.py\", line 147, in inception_fc\n    name='loss3_classifier')\n  File \"/home/w266ajh/.local/lib/python3.6/site-packages/tensorflow/contrib/framework/python/ops/arg_scope.py\", line 183, in func_with_args\n    return func(*args, **current_args)\n  File \"../top5gen/src/models/layers.py\", line 352, in conv\n    trainable=trainable)\n  File \"/home/w266ajh/.local/lib/python3.6/site-packages/tensorflow/python/ops/variable_scope.py\", line 1467, in get_variable\n    aggregation=aggregation)\n  File \"/home/w266ajh/.local/lib/python3.6/site-packages/tensorflow/python/ops/variable_scope.py\", line 1217, in get_variable\n    aggregation=aggregation)\n  File \"/home/w266ajh/.local/lib/python3.6/site-packages/tensorflow/python/ops/variable_scope.py\", line 527, in get_variable\n    aggregation=aggregation)\n  File \"/home/w266ajh/.local/lib/python3.6/site-packages/tensorflow/python/ops/variable_scope.py\", line 481, in _true_getter\n    aggregation=aggregation)\n  File \"/home/w266ajh/.local/lib/python3.6/site-packages/tensorflow/python/ops/variable_scope.py\", line 903, in _get_single_variable\n    aggregation=aggregation)\n  File \"/home/w266ajh/.local/lib/python3.6/site-packages/tensorflow/python/ops/variable_scope.py\", line 2443, in variable\n    aggregation=aggregation)\n  File \"/home/w266ajh/.local/lib/python3.6/site-packages/tensorflow/python/ops/variable_scope.py\", line 2425, in <lambda>\n    previous_getter = lambda **kwargs: default_variable_creator(None, **kwargs)\n  File \"/home/w266ajh/.local/lib/python3.6/site-packages/tensorflow/python/ops/variable_scope.py\", line 2406, in default_variable_creator\n    constraint=constraint)\n  File \"/home/w266ajh/.local/lib/python3.6/site-packages/tensorflow/python/ops/variables.py\", line 259, in __init__\n    constraint=constraint)\n  File \"/home/w266ajh/.local/lib/python3.6/site-packages/tensorflow/python/ops/variables.py\", line 422, in _init_from_args\n    self._snapshot = array_ops.identity(self._variable, name=\"read\")\n  File \"/home/w266ajh/.local/lib/python3.6/site-packages/tensorflow/python/ops/array_ops.py\", line 80, in identity\n    return gen_array_ops.identity(input, name=name)\n  File \"/home/w266ajh/.local/lib/python3.6/site-packages/tensorflow/python/ops/gen_array_ops.py\", line 3264, in identity\n    \"Identity\", input=input, name=name)\n  File \"/home/w266ajh/.local/lib/python3.6/site-packages/tensorflow/python/framework/op_def_library.py\", line 787, in _apply_op_helper\n    op_def=op_def)\n  File \"/home/w266ajh/.local/lib/python3.6/site-packages/tensorflow/python/util/deprecation.py\", line 454, in new_func\n    return func(*args, **kwargs)\n  File \"/home/w266ajh/.local/lib/python3.6/site-packages/tensorflow/python/framework/ops.py\", line 3155, in create_op\n    op_def=op_def)\n  File \"/home/w266ajh/.local/lib/python3.6/site-packages/tensorflow/python/framework/ops.py\", line 1717, in __init__\n    self._traceback = tf_stack.extract_stack()\n\nFailedPreconditionError (see above for traceback): Attempting to use uninitialized value fc_layers/loss3_classifier/biases\n\t [[Node: fc_layers/loss3_classifier/biases/read = Identity[T=DT_FLOAT, _class=[\"loc:@fc_layers/loss3_classifier/biases\"], _device=\"/job:localhost/replica:0/task:0/device:CPU:0\"](fc_layers/loss3_classifier/biases)]]\n",
     "output_type": "error",
     "traceback": [
      "\u001b[0;31m---------------------------------------------------------------------------\u001b[0m",
      "\u001b[0;31mFailedPreconditionError\u001b[0m                   Traceback (most recent call last)",
      "\u001b[0;32m~/.local/lib/python3.6/site-packages/tensorflow/python/client/session.py\u001b[0m in \u001b[0;36m_do_call\u001b[0;34m(self, fn, *args)\u001b[0m\n\u001b[1;32m   1277\u001b[0m     \u001b[0;32mtry\u001b[0m\u001b[0;34m:\u001b[0m\u001b[0;34m\u001b[0m\u001b[0m\n\u001b[0;32m-> 1278\u001b[0;31m       \u001b[0;32mreturn\u001b[0m \u001b[0mfn\u001b[0m\u001b[0;34m(\u001b[0m\u001b[0;34m*\u001b[0m\u001b[0margs\u001b[0m\u001b[0;34m)\u001b[0m\u001b[0;34m\u001b[0m\u001b[0m\n\u001b[0m\u001b[1;32m   1279\u001b[0m     \u001b[0;32mexcept\u001b[0m \u001b[0merrors\u001b[0m\u001b[0;34m.\u001b[0m\u001b[0mOpError\u001b[0m \u001b[0;32mas\u001b[0m \u001b[0me\u001b[0m\u001b[0;34m:\u001b[0m\u001b[0;34m\u001b[0m\u001b[0m\n",
      "\u001b[0;32m~/.local/lib/python3.6/site-packages/tensorflow/python/client/session.py\u001b[0m in \u001b[0;36m_run_fn\u001b[0;34m(feed_dict, fetch_list, target_list, options, run_metadata)\u001b[0m\n\u001b[1;32m   1262\u001b[0m       return self._call_tf_sessionrun(\n\u001b[0;32m-> 1263\u001b[0;31m           options, feed_dict, fetch_list, target_list, run_metadata)\n\u001b[0m\u001b[1;32m   1264\u001b[0m \u001b[0;34m\u001b[0m\u001b[0m\n",
      "\u001b[0;32m~/.local/lib/python3.6/site-packages/tensorflow/python/client/session.py\u001b[0m in \u001b[0;36m_call_tf_sessionrun\u001b[0;34m(self, options, feed_dict, fetch_list, target_list, run_metadata)\u001b[0m\n\u001b[1;32m   1349\u001b[0m         \u001b[0mself\u001b[0m\u001b[0;34m.\u001b[0m\u001b[0m_session\u001b[0m\u001b[0;34m,\u001b[0m \u001b[0moptions\u001b[0m\u001b[0;34m,\u001b[0m \u001b[0mfeed_dict\u001b[0m\u001b[0;34m,\u001b[0m \u001b[0mfetch_list\u001b[0m\u001b[0;34m,\u001b[0m \u001b[0mtarget_list\u001b[0m\u001b[0;34m,\u001b[0m\u001b[0;34m\u001b[0m\u001b[0m\n\u001b[0;32m-> 1350\u001b[0;31m         run_metadata)\n\u001b[0m\u001b[1;32m   1351\u001b[0m \u001b[0;34m\u001b[0m\u001b[0m\n",
      "\u001b[0;31mFailedPreconditionError\u001b[0m: Attempting to use uninitialized value fc_layers/loss3_classifier/biases\n\t [[Node: fc_layers/loss3_classifier/biases/read = Identity[T=DT_FLOAT, _class=[\"loc:@fc_layers/loss3_classifier/biases\"], _device=\"/job:localhost/replica:0/task:0/device:CPU:0\"](fc_layers/loss3_classifier/biases)]]",
      "\nDuring handling of the above exception, another exception occurred:\n",
      "\u001b[0;31mFailedPreconditionError\u001b[0m                   Traceback (most recent call last)",
      "\u001b[0;32m<ipython-input-23-6bd694e452d9>\u001b[0m in \u001b[0;36m<module>\u001b[0;34m()\u001b[0m\n\u001b[1;32m     13\u001b[0m     _, loss_value = sess.run(\n\u001b[1;32m     14\u001b[0m         \u001b[0;34m[\u001b[0m\u001b[0moptim_step\u001b[0m\u001b[0;34m,\u001b[0m \u001b[0mloss\u001b[0m\u001b[0;34m]\u001b[0m\u001b[0;34m,\u001b[0m\u001b[0;34m\u001b[0m\u001b[0m\n\u001b[0;32m---> 15\u001b[0;31m         feed_dict={learning_rate: demo_lr, y_hat: demo_target, image: img})\n\u001b[0m\u001b[1;32m     16\u001b[0m     \u001b[0;31m# project step\u001b[0m\u001b[0;34m\u001b[0m\u001b[0;34m\u001b[0m\u001b[0m\n\u001b[1;32m     17\u001b[0m     \u001b[0msess\u001b[0m\u001b[0;34m.\u001b[0m\u001b[0mrun\u001b[0m\u001b[0;34m(\u001b[0m\u001b[0mproject_step\u001b[0m\u001b[0;34m,\u001b[0m \u001b[0mfeed_dict\u001b[0m\u001b[0;34m=\u001b[0m\u001b[0;34m{\u001b[0m\u001b[0mx\u001b[0m\u001b[0;34m:\u001b[0m \u001b[0mimg\u001b[0m\u001b[0;34m,\u001b[0m \u001b[0mepsilon\u001b[0m\u001b[0;34m:\u001b[0m \u001b[0mdemo_epsilon\u001b[0m\u001b[0;34m}\u001b[0m\u001b[0;34m)\u001b[0m\u001b[0;34m\u001b[0m\u001b[0m\n",
      "\u001b[0;32m~/.local/lib/python3.6/site-packages/tensorflow/python/client/session.py\u001b[0m in \u001b[0;36mrun\u001b[0;34m(self, fetches, feed_dict, options, run_metadata)\u001b[0m\n\u001b[1;32m    875\u001b[0m     \u001b[0;32mtry\u001b[0m\u001b[0;34m:\u001b[0m\u001b[0;34m\u001b[0m\u001b[0m\n\u001b[1;32m    876\u001b[0m       result = self._run(None, fetches, feed_dict, options_ptr,\n\u001b[0;32m--> 877\u001b[0;31m                          run_metadata_ptr)\n\u001b[0m\u001b[1;32m    878\u001b[0m       \u001b[0;32mif\u001b[0m \u001b[0mrun_metadata\u001b[0m\u001b[0;34m:\u001b[0m\u001b[0;34m\u001b[0m\u001b[0m\n\u001b[1;32m    879\u001b[0m         \u001b[0mproto_data\u001b[0m \u001b[0;34m=\u001b[0m \u001b[0mtf_session\u001b[0m\u001b[0;34m.\u001b[0m\u001b[0mTF_GetBuffer\u001b[0m\u001b[0;34m(\u001b[0m\u001b[0mrun_metadata_ptr\u001b[0m\u001b[0;34m)\u001b[0m\u001b[0;34m\u001b[0m\u001b[0m\n",
      "\u001b[0;32m~/.local/lib/python3.6/site-packages/tensorflow/python/client/session.py\u001b[0m in \u001b[0;36m_run\u001b[0;34m(self, handle, fetches, feed_dict, options, run_metadata)\u001b[0m\n\u001b[1;32m   1098\u001b[0m     \u001b[0;32mif\u001b[0m \u001b[0mfinal_fetches\u001b[0m \u001b[0;32mor\u001b[0m \u001b[0mfinal_targets\u001b[0m \u001b[0;32mor\u001b[0m \u001b[0;34m(\u001b[0m\u001b[0mhandle\u001b[0m \u001b[0;32mand\u001b[0m \u001b[0mfeed_dict_tensor\u001b[0m\u001b[0;34m)\u001b[0m\u001b[0;34m:\u001b[0m\u001b[0;34m\u001b[0m\u001b[0m\n\u001b[1;32m   1099\u001b[0m       results = self._do_run(handle, final_targets, final_fetches,\n\u001b[0;32m-> 1100\u001b[0;31m                              feed_dict_tensor, options, run_metadata)\n\u001b[0m\u001b[1;32m   1101\u001b[0m     \u001b[0;32melse\u001b[0m\u001b[0;34m:\u001b[0m\u001b[0;34m\u001b[0m\u001b[0m\n\u001b[1;32m   1102\u001b[0m       \u001b[0mresults\u001b[0m \u001b[0;34m=\u001b[0m \u001b[0;34m[\u001b[0m\u001b[0;34m]\u001b[0m\u001b[0;34m\u001b[0m\u001b[0m\n",
      "\u001b[0;32m~/.local/lib/python3.6/site-packages/tensorflow/python/client/session.py\u001b[0m in \u001b[0;36m_do_run\u001b[0;34m(self, handle, target_list, fetch_list, feed_dict, options, run_metadata)\u001b[0m\n\u001b[1;32m   1270\u001b[0m     \u001b[0;32mif\u001b[0m \u001b[0mhandle\u001b[0m \u001b[0;32mis\u001b[0m \u001b[0;32mNone\u001b[0m\u001b[0;34m:\u001b[0m\u001b[0;34m\u001b[0m\u001b[0m\n\u001b[1;32m   1271\u001b[0m       return self._do_call(_run_fn, feeds, fetches, targets, options,\n\u001b[0;32m-> 1272\u001b[0;31m                            run_metadata)\n\u001b[0m\u001b[1;32m   1273\u001b[0m     \u001b[0;32melse\u001b[0m\u001b[0;34m:\u001b[0m\u001b[0;34m\u001b[0m\u001b[0m\n\u001b[1;32m   1274\u001b[0m       \u001b[0;32mreturn\u001b[0m \u001b[0mself\u001b[0m\u001b[0;34m.\u001b[0m\u001b[0m_do_call\u001b[0m\u001b[0;34m(\u001b[0m\u001b[0m_prun_fn\u001b[0m\u001b[0;34m,\u001b[0m \u001b[0mhandle\u001b[0m\u001b[0;34m,\u001b[0m \u001b[0mfeeds\u001b[0m\u001b[0;34m,\u001b[0m \u001b[0mfetches\u001b[0m\u001b[0;34m)\u001b[0m\u001b[0;34m\u001b[0m\u001b[0m\n",
      "\u001b[0;32m~/.local/lib/python3.6/site-packages/tensorflow/python/client/session.py\u001b[0m in \u001b[0;36m_do_call\u001b[0;34m(self, fn, *args)\u001b[0m\n\u001b[1;32m   1289\u001b[0m         \u001b[0;32mexcept\u001b[0m \u001b[0mKeyError\u001b[0m\u001b[0;34m:\u001b[0m\u001b[0;34m\u001b[0m\u001b[0m\n\u001b[1;32m   1290\u001b[0m           \u001b[0;32mpass\u001b[0m\u001b[0;34m\u001b[0m\u001b[0m\n\u001b[0;32m-> 1291\u001b[0;31m       \u001b[0;32mraise\u001b[0m \u001b[0mtype\u001b[0m\u001b[0;34m(\u001b[0m\u001b[0me\u001b[0m\u001b[0;34m)\u001b[0m\u001b[0;34m(\u001b[0m\u001b[0mnode_def\u001b[0m\u001b[0;34m,\u001b[0m \u001b[0mop\u001b[0m\u001b[0;34m,\u001b[0m \u001b[0mmessage\u001b[0m\u001b[0;34m)\u001b[0m\u001b[0;34m\u001b[0m\u001b[0m\n\u001b[0m\u001b[1;32m   1292\u001b[0m \u001b[0;34m\u001b[0m\u001b[0m\n\u001b[1;32m   1293\u001b[0m   \u001b[0;32mdef\u001b[0m \u001b[0m_extend_graph\u001b[0m\u001b[0;34m(\u001b[0m\u001b[0mself\u001b[0m\u001b[0;34m)\u001b[0m\u001b[0;34m:\u001b[0m\u001b[0;34m\u001b[0m\u001b[0m\n",
      "\u001b[0;31mFailedPreconditionError\u001b[0m: Attempting to use uninitialized value fc_layers/loss3_classifier/biases\n\t [[Node: fc_layers/loss3_classifier/biases/read = Identity[T=DT_FLOAT, _class=[\"loc:@fc_layers/loss3_classifier/biases\"], _device=\"/job:localhost/replica:0/task:0/device:CPU:0\"](fc_layers/loss3_classifier/biases)]]\n\nCaused by op 'fc_layers/loss3_classifier/biases/read', defined at:\n  File \"/usr/lib/python3.6/runpy.py\", line 193, in _run_module_as_main\n    \"__main__\", mod_spec)\n  File \"/usr/lib/python3.6/runpy.py\", line 85, in _run_code\n    exec(code, run_globals)\n  File \"/usr/local/lib/python3.6/dist-packages/ipykernel_launcher.py\", line 16, in <module>\n    app.launch_new_instance()\n  File \"/home/w266ajh/.local/lib/python3.6/site-packages/traitlets/config/application.py\", line 658, in launch_instance\n    app.start()\n  File \"/usr/local/lib/python3.6/dist-packages/ipykernel/kernelapp.py\", line 505, in start\n    self.io_loop.start()\n  File \"/usr/local/lib/python3.6/dist-packages/tornado/platform/asyncio.py\", line 132, in start\n    self.asyncio_loop.run_forever()\n  File \"/usr/lib/python3.6/asyncio/base_events.py\", line 422, in run_forever\n    self._run_once()\n  File \"/usr/lib/python3.6/asyncio/base_events.py\", line 1434, in _run_once\n    handle._run()\n  File \"/usr/lib/python3.6/asyncio/events.py\", line 145, in _run\n    self._callback(*self._args)\n  File \"/usr/local/lib/python3.6/dist-packages/tornado/ioloop.py\", line 758, in _run_callback\n    ret = callback()\n  File \"/usr/local/lib/python3.6/dist-packages/tornado/stack_context.py\", line 300, in null_wrapper\n    return fn(*args, **kwargs)\n  File \"/usr/local/lib/python3.6/dist-packages/tornado/gen.py\", line 1233, in inner\n    self.run()\n  File \"/usr/local/lib/python3.6/dist-packages/tornado/gen.py\", line 1147, in run\n    yielded = self.gen.send(value)\n  File \"/usr/local/lib/python3.6/dist-packages/ipykernel/kernelbase.py\", line 357, in process_one\n    yield gen.maybe_future(dispatch(*args))\n  File \"/usr/local/lib/python3.6/dist-packages/tornado/gen.py\", line 326, in wrapper\n    yielded = next(result)\n  File \"/usr/local/lib/python3.6/dist-packages/ipykernel/kernelbase.py\", line 267, in dispatch_shell\n    yield gen.maybe_future(handler(stream, idents, msg))\n  File \"/usr/local/lib/python3.6/dist-packages/tornado/gen.py\", line 326, in wrapper\n    yielded = next(result)\n  File \"/usr/local/lib/python3.6/dist-packages/ipykernel/kernelbase.py\", line 534, in execute_request\n    user_expressions, allow_stdin,\n  File \"/usr/local/lib/python3.6/dist-packages/tornado/gen.py\", line 326, in wrapper\n    yielded = next(result)\n  File \"/usr/local/lib/python3.6/dist-packages/ipykernel/ipkernel.py\", line 294, in do_execute\n    res = shell.run_cell(code, store_history=store_history, silent=silent)\n  File \"/usr/local/lib/python3.6/dist-packages/ipykernel/zmqshell.py\", line 536, in run_cell\n    return super(ZMQInteractiveShell, self).run_cell(*args, **kwargs)\n  File \"/home/w266ajh/.local/lib/python3.6/site-packages/IPython/core/interactiveshell.py\", line 2662, in run_cell\n    raw_cell, store_history, silent, shell_futures)\n  File \"/home/w266ajh/.local/lib/python3.6/site-packages/IPython/core/interactiveshell.py\", line 2785, in _run_cell\n    interactivity=interactivity, compiler=compiler, result=result)\n  File \"/home/w266ajh/.local/lib/python3.6/site-packages/IPython/core/interactiveshell.py\", line 2901, in run_ast_nodes\n    if self.run_code(code, result):\n  File \"/home/w266ajh/.local/lib/python3.6/site-packages/IPython/core/interactiveshell.py\", line 2961, in run_code\n    exec(code_obj, self.user_global_ns, self.user_ns)\n  File \"<ipython-input-1-359d8000d822>\", line 5, in <module>\n    from top5gen.examples.inception_pretrained import get_top_five, get_logits, get_labels\n  File \"<frozen importlib._bootstrap>\", line 971, in _find_and_load\n  File \"<frozen importlib._bootstrap>\", line 955, in _find_and_load_unlocked\n  File \"<frozen importlib._bootstrap>\", line 665, in _load_unlocked\n  File \"<frozen importlib._bootstrap_external>\", line 678, in exec_module\n  File \"<frozen importlib._bootstrap>\", line 219, in _call_with_frames_removed\n  File \"../top5gen/examples/inception_pretrained.py\", line 25, in <module>\n    test_model.create_test_model()\n  File \"../top5gen/src/nets/googlenet.py\", line 85, in create_test_model\n    self.layers['logits'] = self._fc_layers(self.layers['inception_out'])\n  File \"../top5gen/src/nets/googlenet.py\", line 112, in _fc_layers\n    is_training=self.is_training, wd=self._wd)\n  File \"../top5gen/src/models/inception_module.py\", line 147, in inception_fc\n    name='loss3_classifier')\n  File \"/home/w266ajh/.local/lib/python3.6/site-packages/tensorflow/contrib/framework/python/ops/arg_scope.py\", line 183, in func_with_args\n    return func(*args, **current_args)\n  File \"../top5gen/src/models/layers.py\", line 352, in conv\n    trainable=trainable)\n  File \"/home/w266ajh/.local/lib/python3.6/site-packages/tensorflow/python/ops/variable_scope.py\", line 1467, in get_variable\n    aggregation=aggregation)\n  File \"/home/w266ajh/.local/lib/python3.6/site-packages/tensorflow/python/ops/variable_scope.py\", line 1217, in get_variable\n    aggregation=aggregation)\n  File \"/home/w266ajh/.local/lib/python3.6/site-packages/tensorflow/python/ops/variable_scope.py\", line 527, in get_variable\n    aggregation=aggregation)\n  File \"/home/w266ajh/.local/lib/python3.6/site-packages/tensorflow/python/ops/variable_scope.py\", line 481, in _true_getter\n    aggregation=aggregation)\n  File \"/home/w266ajh/.local/lib/python3.6/site-packages/tensorflow/python/ops/variable_scope.py\", line 903, in _get_single_variable\n    aggregation=aggregation)\n  File \"/home/w266ajh/.local/lib/python3.6/site-packages/tensorflow/python/ops/variable_scope.py\", line 2443, in variable\n    aggregation=aggregation)\n  File \"/home/w266ajh/.local/lib/python3.6/site-packages/tensorflow/python/ops/variable_scope.py\", line 2425, in <lambda>\n    previous_getter = lambda **kwargs: default_variable_creator(None, **kwargs)\n  File \"/home/w266ajh/.local/lib/python3.6/site-packages/tensorflow/python/ops/variable_scope.py\", line 2406, in default_variable_creator\n    constraint=constraint)\n  File \"/home/w266ajh/.local/lib/python3.6/site-packages/tensorflow/python/ops/variables.py\", line 259, in __init__\n    constraint=constraint)\n  File \"/home/w266ajh/.local/lib/python3.6/site-packages/tensorflow/python/ops/variables.py\", line 422, in _init_from_args\n    self._snapshot = array_ops.identity(self._variable, name=\"read\")\n  File \"/home/w266ajh/.local/lib/python3.6/site-packages/tensorflow/python/ops/array_ops.py\", line 80, in identity\n    return gen_array_ops.identity(input, name=name)\n  File \"/home/w266ajh/.local/lib/python3.6/site-packages/tensorflow/python/ops/gen_array_ops.py\", line 3264, in identity\n    \"Identity\", input=input, name=name)\n  File \"/home/w266ajh/.local/lib/python3.6/site-packages/tensorflow/python/framework/op_def_library.py\", line 787, in _apply_op_helper\n    op_def=op_def)\n  File \"/home/w266ajh/.local/lib/python3.6/site-packages/tensorflow/python/util/deprecation.py\", line 454, in new_func\n    return func(*args, **kwargs)\n  File \"/home/w266ajh/.local/lib/python3.6/site-packages/tensorflow/python/framework/ops.py\", line 3155, in create_op\n    op_def=op_def)\n  File \"/home/w266ajh/.local/lib/python3.6/site-packages/tensorflow/python/framework/ops.py\", line 1717, in __init__\n    self._traceback = tf_stack.extract_stack()\n\nFailedPreconditionError (see above for traceback): Attempting to use uninitialized value fc_layers/loss3_classifier/biases\n\t [[Node: fc_layers/loss3_classifier/biases/read = Identity[T=DT_FLOAT, _class=[\"loc:@fc_layers/loss3_classifier/biases\"], _device=\"/job:localhost/replica:0/task:0/device:CPU:0\"](fc_layers/loss3_classifier/biases)]]\n"
     ]
    }
   ],
   "source": [
    "# Execution!!!\n",
    "demo_epsilon = 2.0/255.0 # a really small perturbation\n",
    "demo_lr = 1e-1\n",
    "demo_steps = 100\n",
    "demo_target = 924 # \"guacamole\"\n",
    "\n",
    "# initialization step\n",
    "sess.run(assign_op, feed_dict={x: img})\n",
    "\n",
    "# projected gradient descent\n",
    "for i in range(demo_steps):\n",
    "    # gradient descent step\n",
    "    _, loss_value = sess.run(\n",
    "        [optim_step, loss],\n",
    "        feed_dict={learning_rate: demo_lr, y_hat: demo_target, image: img})\n",
    "    # project step\n",
    "    sess.run(project_step, feed_dict={x: img, epsilon: demo_epsilon})\n",
    "    if (i+1) % 10 == 0:\n",
    "        print('step %d, loss=%g' % (i+1, loss_value))\n",
    "    \n",
    "\n",
    "adv = x_hat.eval() # retrieve the adversarial example"
   ]
  },
  {
   "cell_type": "code",
   "execution_count": null,
   "metadata": {},
   "outputs": [],
   "source": []
  }
 ],
 "metadata": {
  "kernelspec": {
   "display_name": "Python 3",
   "language": "python",
   "name": "python3"
  },
  "language_info": {
   "codemirror_mode": {
    "name": "ipython",
    "version": 3
   },
   "file_extension": ".py",
   "mimetype": "text/x-python",
   "name": "python",
   "nbconvert_exporter": "python",
   "pygments_lexer": "ipython3",
   "version": "3.6.6"
  }
 },
 "nbformat": 4,
 "nbformat_minor": 2
}
